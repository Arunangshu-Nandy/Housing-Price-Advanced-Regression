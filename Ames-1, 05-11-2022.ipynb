{
 "cells": [
  {
   "cell_type": "code",
   "execution_count": 1,
   "id": "e58fccfe",
   "metadata": {},
   "outputs": [
    {
     "data": {
      "text/plain": [
       "'/Users/anwesha/Documents/STUDY DOCUMENTS/ARUNANGSHU/Kaggle dataset/Ames Housing Dataset'"
      ]
     },
     "execution_count": 1,
     "metadata": {},
     "output_type": "execute_result"
    }
   ],
   "source": [
    "import os\n",
    "os.getcwd()"
   ]
  },
  {
   "cell_type": "code",
   "execution_count": 3,
   "id": "383f3068",
   "metadata": {},
   "outputs": [],
   "source": [
    "os.chdir('/Users/anwesha/Documents/STUDY DOCUMENTS/ARUNANGSHU/Kaggle dataset/Ames Housing Dataset')"
   ]
  },
  {
   "cell_type": "code",
   "execution_count": 4,
   "id": "191b757f",
   "metadata": {},
   "outputs": [
    {
     "data": {
      "text/plain": [
       "'/Users/anwesha/Documents/STUDY DOCUMENTS/ARUNANGSHU/Kaggle dataset/Ames Housing Dataset'"
      ]
     },
     "execution_count": 4,
     "metadata": {},
     "output_type": "execute_result"
    }
   ],
   "source": [
    "os.getcwd()"
   ]
  },
  {
   "cell_type": "code",
   "execution_count": null,
   "id": "1779e6e5",
   "metadata": {},
   "outputs": [],
   "source": [
    "import pandas as pd\n",
    "import numpy as np\n",
    "import matplotlib.pyplot as plt\n",
    "import seaborn as sns\n",
    "from sklearn.cluster import KMeans\n",
    "from sklearn.compose import ColumnTransformer\n",
    "from sklearn.model_selection import cross_val_score\n",
    "import sklearn.preprocessing as preprocessing\n",
    "import xgboost as xgb\n",
    "from xgboost import XGBRegressor\n",
    "from sklearn.model_selection import train_test_split\n",
    "from sklearn.impute import SimpleImputer\n",
    "from sklearn.ensemble import RandomForestRegressor\n",
    "from sklearn.metrics import mean_absolute_error\n",
    "from sklearn.model_selection import cross_val_score\n",
    "from sklearn.neighbors import KNeighborsRegressor"
   ]
  },
  {
   "cell_type": "code",
   "execution_count": null,
   "id": "0bea19fb",
   "metadata": {},
   "outputs": [],
   "source": [
    "def score_dataset(X, y, model=XGBRegressor()):\n",
    "    # Label encoding for categoricals\n",
    "    for colname in X.select_dtypes([\"category\", \"object\"]):\n",
    "        X[colname], _ = X[colname].factorize()\n",
    "    # Metric for Housing competition is RMSLE (Root Mean Squared Log Error)\n",
    "    score = cross_val_score(\n",
    "        model, X, y, cv=5, scoring=\"neg_mean_squared_log_error\",\n",
    "    )\n",
    "    score = -1 * score.mean()\n",
    "    score = np.sqrt(score)\n",
    "    return score"
   ]
  },
  {
   "cell_type": "code",
   "execution_count": null,
   "id": "1b80e5ab",
   "metadata": {},
   "outputs": [],
   "source": [
    "train=pd.read_csv('train.csv')\n",
    "test=pd.read_csv('test.csv')"
   ]
  },
  {
   "cell_type": "code",
   "execution_count": null,
   "id": "553ee1e6",
   "metadata": {},
   "outputs": [],
   "source": [
    "train.shape"
   ]
  },
  {
   "cell_type": "code",
   "execution_count": null,
   "id": "7cc24c25",
   "metadata": {
    "scrolled": true
   },
   "outputs": [],
   "source": [
    "sns.heatmap(train.isnull(),yticklabels=False, cmap='viridis')"
   ]
  },
  {
   "cell_type": "code",
   "execution_count": null,
   "id": "4dcd6d8e",
   "metadata": {},
   "outputs": [],
   "source": [
    "train.dropna(subset=['SalePrice'],axis=0,inplace=True)"
   ]
  },
  {
   "cell_type": "code",
   "execution_count": null,
   "id": "b47805a6",
   "metadata": {},
   "outputs": [],
   "source": [
    "X=train.copy()\n",
    "y=X.pop('SalePrice')\n",
    "model=RandomForestRegressor(n_estimators=100,random_state=0)\n",
    "\n",
    "def MAE_calculation(X,y,model):\n",
    "    \"Step-1 Replacement of NaN\"\n",
    "    from sklearn.compose import ColumnTransformer\n",
    "    column_trans = ColumnTransformer(\n",
    "        [(X.select_dtypes(['float64','int64']),SimpleImputer(strategy='most_frequent')),\n",
    "         (X.select_dtypes(['object']), SimpleImputer(strategy='most_frequent'))],\n",
    "        remainder='passthrough')\n",
    "    \n",
    "    \"Step-2*** Factorization of categorical columns\"\n",
    "    for colname in X.select_dtypes([\"category\", \"object\"]):\n",
    "        X[colname],_ = X[colname].factorize()\n",
    "        \n",
    "    \"Step-3*** Train test & split\"\n",
    "    train_X, val_X, train_y, val_y = train_test_split(X,y,train_size=0.8,test_size=0.2,random_state=0)\n",
    "    \n",
    "    \"Step-4*** Final Step of error calculation \"\n",
    "    model.fit(train_X,train_y)\n",
    "    \n",
    "    #scores =cross_val_score(model.predict(X),y, cv=3, scoring='mean_absolute_error')\n",
    "    \n",
    "    print(\"MAE is:\",mean_absolute_error(model.predict(val_X),val_y))"
   ]
  },
  {
   "cell_type": "code",
   "execution_count": null,
   "id": "3edcb176",
   "metadata": {},
   "outputs": [],
   "source": [
    "X.drop(columns=['LotFrontage','MasVnrArea','GarageYrBlt'],inplace=True)\n",
    "MAE_calculation(X,y,model)"
   ]
  },
  {
   "cell_type": "code",
   "execution_count": null,
   "id": "510aef8d",
   "metadata": {},
   "outputs": [],
   "source": [
    "MAE_calculation(X,y,model=KNeighborsRegressor())"
   ]
  },
  {
   "cell_type": "code",
   "execution_count": null,
   "id": "89461fbe",
   "metadata": {},
   "outputs": [],
   "source": [
    "discrete_features = X.dtypes == int\n",
    "\n",
    "from sklearn.feature_selection import mutual_info_regression\n",
    "\n",
    "def make_mi_scores(X, y, discrete_features):\n",
    "    mi_scores = mutual_info_regression(X, y, discrete_features=discrete_features)\n",
    "    mi_scores = pd.Series(mi_scores, name=\"MI Scores\", index=X.columns)\n",
    "    mi_scores = mi_scores.sort_values(ascending=False)\n",
    "    return mi_scores\n",
    "\n",
    "mi_scores = make_mi_scores(X, y, discrete_features)\n",
    "mi_scores[::10] "
   ]
  },
  {
   "cell_type": "code",
   "execution_count": null,
   "id": "e7050925",
   "metadata": {},
   "outputs": [],
   "source": [
    "def plot_mi_scores(scores):\n",
    "    scores = scores.sort_values(ascending=True)\n",
    "    width = np.arange(len(scores))\n",
    "    ticks = list(scores.index)\n",
    "    plt.barh(width, scores)\n",
    "    plt.yticks(width, ticks)\n",
    "    plt.title(\"Mutual Information Scores\")\n",
    "\n",
    "\n",
    "plt.figure(dpi=100, figsize=(8, 15))\n",
    "plot_mi_scores(mi_scores)"
   ]
  },
  {
   "cell_type": "code",
   "execution_count": null,
   "id": "a51cc9a9",
   "metadata": {},
   "outputs": [],
   "source": [
    "def compare_object_columns(train,test):\n",
    "    l=train.select_dtypes(include='object').columns.tolist()\n",
    "    for i in l:\n",
    "        Tr=train[i].unique().tolist()\n",
    "        Te=test[i].unique().tolist()\n",
    "        if set(train[i].unique())!=set(test[i].unique()):\n",
    "            Tr=[\"nan\" if x is np.nan else x for x in Tr]\n",
    "            print ('**** train:',i,sorted(set(Tr)),end='\\n')\n",
    "            Te=[\"nan\" if x is np.nan else x for x in Te]\n",
    "            print ('#### test:',i,sorted(set(Te)),end='\\n''\\n')"
   ]
  },
  {
   "cell_type": "code",
   "execution_count": null,
   "id": "452d23d3",
   "metadata": {},
   "outputs": [],
   "source": [
    "compare_object_columns(train,test)"
   ]
  },
  {
   "cell_type": "code",
   "execution_count": null,
   "id": "dd9521ee",
   "metadata": {
    "scrolled": true
   },
   "outputs": [],
   "source": [
    "train.columns"
   ]
  },
  {
   "cell_type": "code",
   "execution_count": null,
   "id": "b9e1a5aa",
   "metadata": {},
   "outputs": [],
   "source": [
    "len(train)"
   ]
  },
  {
   "cell_type": "code",
   "execution_count": null,
   "id": "58f24c40",
   "metadata": {},
   "outputs": [],
   "source": [
    "for cols in train.select_dtypes(include='object'):\n",
    "    if set(train[cols].unique())!=set(test[cols].unique()):\n",
    "        print ('**',cols,'**','\\n','\\n',train.groupby(cols)[cols].agg('count'),'**/n**')\n",
    "    "
   ]
  },
  {
   "cell_type": "code",
   "execution_count": null,
   "id": "b5ea954d",
   "metadata": {},
   "outputs": [],
   "source": [
    "\"from above two studies we see that MiscFeature: TenC=1, PoolQC: Fa=2, GarageQual: Ex=3, Eelctrical: Mix=1, Heating: Floor &\" \n",
    "\"OthW are 1 & 2, Exterior2nd: Other=1, Exterior1st: Imstucc & Stone 1 & 2, RoomMatl: ClyTile=1, Membran=1, Metal=1 & Roll=1\"\n",
    "\"HouseStyle 2.5Fin=8, Condition2:RRAe=1, RRAn=1, RRNn=2, Utilities: NoSeWa=1 // In short these are in very small qty. Hence\"\n",
    "\"Hence we are dropping all these rows from train dataset. Point to be noted that these are not there in test dataset also\""
   ]
  },
  {
   "cell_type": "code",
   "execution_count": null,
   "id": "ac6ad73d",
   "metadata": {},
   "outputs": [],
   "source": [
    "train1=train[(train.MiscFeature !='TenC') & (train.PoolQC !='Fa') & (train.GarageQual !='Ex') \n",
    "              & (train.Electrical !='Mix') & (train.Heating.isin(['Floor','OthW'])==False) & \n",
    "             (train.Exterior1st.isin(['ImStucc','Stone'])==False)\n",
    "             & (train.Exterior2nd !='Other') & (train.RoofMatl.isin(['ClyTile','Membran','Metal','Roll'])==False)\n",
    "             & (train.HouseStyle !='2.5Fin') & (train.Condition2.isin(['RRAe','RRAn','RRNn'])==False) & (train.Utilities !='NoSeWa')]"
   ]
  },
  {
   "cell_type": "code",
   "execution_count": null,
   "id": "29d2f2a9",
   "metadata": {},
   "outputs": [],
   "source": [
    "train1.shape"
   ]
  },
  {
   "cell_type": "code",
   "execution_count": null,
   "id": "f065bc8b",
   "metadata": {},
   "outputs": [],
   "source": []
  },
  {
   "cell_type": "code",
   "execution_count": null,
   "id": "135782ac",
   "metadata": {
    "scrolled": true
   },
   "outputs": [],
   "source": [
    "train1.BedroomAbvGr.unique()"
   ]
  },
  {
   "cell_type": "code",
   "execution_count": null,
   "id": "111e08c8",
   "metadata": {
    "scrolled": true
   },
   "outputs": [],
   "source": [
    "\"Exploring the 0 bedroom sizes: which clearly does not make any sense\"\n",
    "\n",
    "train[train.BedroomAbvGr==0].shape\n",
    "\n",
    "\"So we have 6 such cases, which we are dropping\"\n",
    "\n",
    "train2=train1[(train1.BedroomAbvGr!=0)]\n"
   ]
  },
  {
   "cell_type": "code",
   "execution_count": null,
   "id": "9bbdc12a",
   "metadata": {},
   "outputs": [],
   "source": [
    "train2.shape"
   ]
  },
  {
   "cell_type": "code",
   "execution_count": null,
   "id": "4fc9f5ae",
   "metadata": {},
   "outputs": [],
   "source": [
    "\"Let us explore the construction area , sales price and bedroom size\""
   ]
  },
  {
   "cell_type": "code",
   "execution_count": null,
   "id": "56c74894",
   "metadata": {},
   "outputs": [],
   "source": [
    "train2.loc[:,('LotArea','BsmtUnfSF','TotalBsmtSF','1stFlrSF', '2ndFlrSF','GarageArea','GrLivArea','WoodDeckSF', 'OpenPorchSF',\n",
    "       'EnclosedPorch','3SsnPorch', 'ScreenPorch', 'PoolArea')]"
   ]
  },
  {
   "cell_type": "code",
   "execution_count": null,
   "id": "3ae6ba66",
   "metadata": {},
   "outputs": [],
   "source": [
    "train2['Total_SF']=train2[['TotalBsmtSF','1stFlrSF', '2ndFlrSF','GarageArea','GrLivArea','WoodDeckSF', 'OpenPorchSF',\n",
    "       'EnclosedPorch','3SsnPorch', 'ScreenPorch', 'PoolArea']].sum(axis=1)\n",
    "\n",
    "test['Total_SF']=test[['TotalBsmtSF','1stFlrSF', '2ndFlrSF','GarageArea','GrLivArea','WoodDeckSF', 'OpenPorchSF',\n",
    "       'EnclosedPorch','3SsnPorch', 'ScreenPorch', 'PoolArea']].sum(axis=1)\n",
    "\n",
    "test2=test.copy()"
   ]
  },
  {
   "cell_type": "code",
   "execution_count": null,
   "id": "1171df54",
   "metadata": {},
   "outputs": [],
   "source": [
    "train2['Per_SF_Rate']=(train2['SalePrice']/train2['Total_SF']).round(0)"
   ]
  },
  {
   "cell_type": "code",
   "execution_count": null,
   "id": "7fb4409c",
   "metadata": {},
   "outputs": [],
   "source": [
    "train2.head(2)"
   ]
  },
  {
   "cell_type": "code",
   "execution_count": null,
   "id": "2c9b5e44",
   "metadata": {},
   "outputs": [],
   "source": [
    "train.loc[:,('PoolQC','PoolArea')]"
   ]
  },
  {
   "cell_type": "code",
   "execution_count": null,
   "id": "316044c8",
   "metadata": {},
   "outputs": [],
   "source": [
    "test.groupby('PoolQC')['PoolQC'].agg('count')"
   ]
  },
  {
   "cell_type": "code",
   "execution_count": null,
   "id": "93ee9196",
   "metadata": {},
   "outputs": [],
   "source": [
    "test.groupby('PoolArea')['PoolArea'].agg('count')"
   ]
  },
  {
   "cell_type": "code",
   "execution_count": null,
   "id": "b0017690",
   "metadata": {},
   "outputs": [],
   "source": [
    "\"Pool QC data points are very low; we also see that these are very low in test data set also. Hence we are dropping PoolQC & PoolArea\""
   ]
  },
  {
   "cell_type": "code",
   "execution_count": null,
   "id": "340ad3ce",
   "metadata": {},
   "outputs": [],
   "source": [
    "train3=train2.drop(['PoolQC','PoolArea'],axis=1)\n",
    "test3=test2.drop(['PoolQC','PoolArea'],axis=1)"
   ]
  },
  {
   "cell_type": "code",
   "execution_count": null,
   "id": "9c85be94",
   "metadata": {},
   "outputs": [],
   "source": [
    "train3.groupby('BedroomAbvGr')['BedroomAbvGr'].agg('count')"
   ]
  },
  {
   "cell_type": "code",
   "execution_count": null,
   "id": "e562cae6",
   "metadata": {},
   "outputs": [],
   "source": [
    "train3.BedroomAbvGr.unique()"
   ]
  },
  {
   "cell_type": "code",
   "execution_count": null,
   "id": "4bf6743b",
   "metadata": {},
   "outputs": [],
   "source": [
    "train3[train3.BedroomAbvGr==1].Total_SF.describe()"
   ]
  },
  {
   "cell_type": "code",
   "execution_count": null,
   "id": "a688489b",
   "metadata": {},
   "outputs": [],
   "source": [
    "train3[train3.BedroomAbvGr==2].Total_SF.describe()\n"
   ]
  },
  {
   "cell_type": "code",
   "execution_count": null,
   "id": "38582238",
   "metadata": {},
   "outputs": [],
   "source": [
    "train3[train3.BedroomAbvGr==3].Total_SF.describe()"
   ]
  },
  {
   "cell_type": "code",
   "execution_count": null,
   "id": "26b25ffe",
   "metadata": {},
   "outputs": [],
   "source": [
    "train3[train3.BedroomAbvGr==4].Total_SF.describe()"
   ]
  },
  {
   "cell_type": "code",
   "execution_count": null,
   "id": "d3b483df",
   "metadata": {},
   "outputs": [],
   "source": [
    "train3[train3.BedroomAbvGr==5].Total_SF.describe()"
   ]
  },
  {
   "cell_type": "code",
   "execution_count": null,
   "id": "e44ad3f3",
   "metadata": {},
   "outputs": [],
   "source": [
    "train3[train3.BedroomAbvGr==6].Total_SF.describe()"
   ]
  },
  {
   "cell_type": "code",
   "execution_count": null,
   "id": "fd285396",
   "metadata": {},
   "outputs": [],
   "source": [
    "train3.shape"
   ]
  },
  {
   "cell_type": "code",
   "execution_count": null,
   "id": "be20db46",
   "metadata": {},
   "outputs": [],
   "source": [
    "def outlier_removal_Neighborhood_SF_Rate(df):\n",
    "    df1=pd.DataFrame()\n",
    "    for key, df2 in df.groupby('Neighborhood'):\n",
    "        mean=np.mean(df2.Per_SF_Rate)\n",
    "        std=np.std(df2.Per_SF_Rate)\n",
    "        df3=df2[(df2.Per_SF_Rate>(mean-2*std)) & (df2.Per_SF_Rate<(mean+2*std))]\n",
    "        df1=pd.concat([df1,df3],ignore_index=True)\n",
    "    return df1"
   ]
  },
  {
   "cell_type": "code",
   "execution_count": null,
   "id": "e50e0846",
   "metadata": {},
   "outputs": [],
   "source": [
    "train4=outlier_removal_Neighborhood_SF_Rate(train3)"
   ]
  },
  {
   "cell_type": "code",
   "execution_count": null,
   "id": "395e6357",
   "metadata": {},
   "outputs": [],
   "source": [
    "train4.shape"
   ]
  },
  {
   "cell_type": "code",
   "execution_count": null,
   "id": "ed25255c",
   "metadata": {},
   "outputs": [],
   "source": [
    "def outlier_removal_Bedroom_Total_SF(df):\n",
    "    df1=pd.DataFrame()\n",
    "    for key, df2 in df.groupby('BedroomAbvGr'):\n",
    "        mean=np.mean(df2.Total_SF)\n",
    "        std=np.std(df2.Total_SF)\n",
    "        df3=df2[(df2.Total_SF>(mean-2*std)) & (df2.Total_SF<(mean+2*std))]\n",
    "        df1=pd.concat([df1,df3],ignore_index=True)\n",
    "    return df1"
   ]
  },
  {
   "cell_type": "code",
   "execution_count": null,
   "id": "70523d30",
   "metadata": {},
   "outputs": [],
   "source": [
    "train5=outlier_removal_Bedroom_Total_SF(train4)"
   ]
  },
  {
   "cell_type": "code",
   "execution_count": null,
   "id": "297ea37c",
   "metadata": {},
   "outputs": [],
   "source": [
    "train5.shape"
   ]
  },
  {
   "cell_type": "code",
   "execution_count": null,
   "id": "f5930b66",
   "metadata": {},
   "outputs": [],
   "source": [
    "df=train5.copy()\n",
    "l=df.select_dtypes(include=['object','int64','float64']).columns\n",
    "\n",
    "results=[]\n",
    "\n",
    "for i in l:\n",
    "    sum_na=df[i].isna().sum()\n",
    "    sum_na += np.sum(df[i] == \"nan\")\n",
    "    if sum_na>0:\n",
    "        print(i,',',str(sum_na),',',round((sum_na/len(df))*100),'%')\n",
    "        results.append(i)\n",
    "sns.barplot(y=df[results].isnull().sum().index, x=df[results].isnull().sum().values)\n",
    "plt.show()"
   ]
  },
  {
   "cell_type": "code",
   "execution_count": null,
   "id": "7becd278",
   "metadata": {},
   "outputs": [],
   "source": []
  },
  {
   "cell_type": "code",
   "execution_count": null,
   "id": "dd1e9735",
   "metadata": {},
   "outputs": [],
   "source": [
    "def plot_scatter_chart(df,Neighborhood):\n",
    "    bed2=df[(df.Neighborhood==Neighborhood) & (df.BedroomAbvGr==2)]\n",
    "    bed3=df[(df.Neighborhood==Neighborhood) & (df.BedroomAbvGr==3)]\n",
    "    plt.figure(dpi=100, figsize=(5,5))\n",
    "    plt.scatter(bed2.Total_SF,bed2.SalePrice/1000,color='blue',label='2 Bedroom', s=10)\n",
    "    plt.scatter(bed3.Total_SF,bed3.SalePrice/1000,color='red',label='3 Bedroom', s=10)\n",
    "    plt.xlabel('Total Square Feet Area')\n",
    "    plt.ylabel('SalePrice in kilo USD')\n",
    "    plt.title(Neighborhood)\n",
    "    plt.legend()\n",
    "\n",
    "plot_scatter_chart(train5,'NAmes')"
   ]
  },
  {
   "cell_type": "code",
   "execution_count": null,
   "id": "9e86afad",
   "metadata": {},
   "outputs": [],
   "source": [
    "def remove_Price_Per_SF_outliers(df):\n",
    "    remove_rows=np.array([])\n",
    "    for locality, location_df in df.groupby('Neighborhood'):\n",
    "        bedroom_stat={}\n",
    "        for bedroom, bedroom_df in df.groupby('BedroomAbvGr'):\n",
    "            bedroom_stat[bedroom]={\n",
    "                'mean': np.mean(bedroom_df.Per_SF_Rate),\n",
    "                'std': np.std(bedroom_df.Per_SF_Rate),\n",
    "                'count': bedroom_df.shape[0]\n",
    "            }\n",
    "        for bedroom, bedroom_df in df.groupby('BedroomAbvGr'):\n",
    "            stat=bedroom_stat.get(bedroom-1)\n",
    "            if stat and stat['count']>5:\n",
    "                remove_rows=np.append(remove_rows, bedroom_df[bedroom_df.Per_SF_Rate<(stat['mean'])].index.values)\n",
    "    return df.drop(remove_rows,axis='index')"
   ]
  },
  {
   "cell_type": "code",
   "execution_count": null,
   "id": "0e6650de",
   "metadata": {},
   "outputs": [],
   "source": [
    "train6=remove_Price_Per_SF_outliers(train5)"
   ]
  },
  {
   "cell_type": "code",
   "execution_count": null,
   "id": "0729cd93",
   "metadata": {},
   "outputs": [],
   "source": [
    "train6.shape"
   ]
  },
  {
   "cell_type": "code",
   "execution_count": null,
   "id": "f1862a25",
   "metadata": {},
   "outputs": [],
   "source": [
    "plot_scatter_chart(train6,'NAmes')"
   ]
  },
  {
   "cell_type": "code",
   "execution_count": null,
   "id": "9b2b2395",
   "metadata": {},
   "outputs": [],
   "source": [
    "plt.hist(train6.Per_SF_Rate,rwidth=0.5)\n",
    "plt.xlabel('Price Per SF')\n",
    "plt.ylabel('Count')"
   ]
  },
  {
   "cell_type": "code",
   "execution_count": null,
   "id": "b9872c63",
   "metadata": {},
   "outputs": [],
   "source": [
    "train7=train6.drop(['Per_SF_Rate','MiscFeature','Alley','FireplaceQu','Fence','LotFrontage'],axis=1)\n",
    "train7.head(2)\n",
    "test4=test3.drop(['MiscFeature','Alley','FireplaceQu','Fence','LotFrontage'],axis=1)"
   ]
  },
  {
   "cell_type": "code",
   "execution_count": null,
   "id": "6769dc8f",
   "metadata": {},
   "outputs": [],
   "source": [
    "train7.shape"
   ]
  },
  {
   "cell_type": "code",
   "execution_count": null,
   "id": "4774c638",
   "metadata": {},
   "outputs": [],
   "source": [
    "#train8=train7.dropna(subset=['GarageType','GarageYrBlt', 'GarageFinish','GarageQual','GarageCond',\n",
    "#                             'MasVnrType','MasVnrArea','BsmtQual','BsmtCond','BsmtExposure',\n",
    "#                             'BsmtFinType1','BsmtFinType2','Electrical'],axis=0)\n",
    "#train8.shape\n",
    "\n",
    "\"We tried by removing the NaNs from rows instaed of dropping these columns, the result from grid search\" \n",
    "\"cv is as mentioned below\"\n",
    "\n"
   ]
  },
  {
   "cell_type": "code",
   "execution_count": null,
   "id": "9185d07c",
   "metadata": {},
   "outputs": [],
   "source": [
    "\"Insetad of removing the NaNs if we drop the column the result has increased significantly\"\n",
    "\"Hence we follow the same approach in test dataset also\"\n",
    "\n",
    "train8=train7.drop(['GarageType','GarageYrBlt', 'GarageFinish','GarageQual','GarageCond',\n",
    "                             'MasVnrType','MasVnrArea','BsmtQual','BsmtCond','BsmtExposure',\n",
    "                             'BsmtFinType1','BsmtFinType2','Electrical'],axis=1)\n",
    "train8.shape\n",
    "\n",
    "test5=test4.drop(['GarageType','GarageYrBlt', 'GarageFinish','GarageQual','GarageCond',\n",
    "                             'MasVnrType','MasVnrArea','BsmtQual','BsmtCond','BsmtExposure',\n",
    "                             'BsmtFinType1','BsmtFinType2','Electrical'],axis=1)\n",
    "test5.shape"
   ]
  },
  {
   "cell_type": "code",
   "execution_count": null,
   "id": "ced0c952",
   "metadata": {},
   "outputs": [],
   "source": [
    "train8.shape"
   ]
  },
  {
   "cell_type": "code",
   "execution_count": null,
   "id": "743b8a55",
   "metadata": {},
   "outputs": [],
   "source": [
    "num_cols=test5.select_dtypes(exclude='object')\n",
    "cat_cols=test5.select_dtypes(include='object')\n",
    "\n",
    "num_impute=SimpleImputer(strategy='mean')\n",
    "cat_impute=SimpleImputer(strategy='most_frequent')\n",
    "\n",
    "num_rev=num_impute.fit_transform(num_cols)\n",
    "cat_rev=cat_impute.fit_transform(cat_cols)\n",
    "\n",
    "num_df=pd.DataFrame(num_rev,columns=num_cols.columns)\n",
    "cat_df=pd.DataFrame(cat_rev,columns=cat_cols.columns)\n",
    "\n",
    "test6=pd.concat([num_df,cat_df],axis=1)\n",
    "\n",
    "test6.shape"
   ]
  },
  {
   "cell_type": "code",
   "execution_count": null,
   "id": "510ca01d",
   "metadata": {},
   "outputs": [],
   "source": [
    "\"Model Preparation\"\n",
    "\n",
    "dummy_train=pd.get_dummies(train8.select_dtypes(include='object'))\n",
    "dummy_train.shape\n",
    "\n",
    "dummy_test=pd.get_dummies(test5.select_dtypes(include='object'))\n",
    "dummy_test.shape\n"
   ]
  },
  {
   "cell_type": "code",
   "execution_count": null,
   "id": "cee67a20",
   "metadata": {},
   "outputs": [],
   "source": [
    "dummy_train.shape"
   ]
  },
  {
   "cell_type": "code",
   "execution_count": null,
   "id": "6c9f7f7a",
   "metadata": {},
   "outputs": [],
   "source": [
    "categorical_cols=[cols for cols in test5.columns if test5[cols].dtype=='object'  \n",
    "                 and set(test5[cols]).issubset(set(train8[cols]))] \n",
    "len(categorical_cols)"
   ]
  },
  {
   "cell_type": "code",
   "execution_count": null,
   "id": "8696bb0e",
   "metadata": {},
   "outputs": [],
   "source": [
    "#test6.select_dtypes(include='object')"
   ]
  },
  {
   "cell_type": "code",
   "execution_count": null,
   "id": "51c806bf",
   "metadata": {},
   "outputs": [],
   "source": [
    "'Neighborhood','Exterior1st','Exterior2nd'\n",
    "'while we can drop exterior 1st & 2nd we cannot drop neighborhood'"
   ]
  },
  {
   "cell_type": "code",
   "execution_count": null,
   "id": "9247710e",
   "metadata": {
    "scrolled": true
   },
   "outputs": [],
   "source": [
    "compare_object_columns(train8,test6)"
   ]
  },
  {
   "cell_type": "code",
   "execution_count": null,
   "id": "172f452b",
   "metadata": {},
   "outputs": [],
   "source": []
  },
  {
   "cell_type": "code",
   "execution_count": null,
   "id": "82a9ce6e",
   "metadata": {},
   "outputs": [],
   "source": [
    "train9=pd.concat([train8,dummy_train],axis=1)\n",
    "train9.shape\n",
    "\n",
    "test6=pd.concat([test5,dummy_test],axis=1)\n",
    "test6.shape"
   ]
  },
  {
   "cell_type": "code",
   "execution_count": null,
   "id": "f6aff4da",
   "metadata": {},
   "outputs": [],
   "source": [
    "train9.shape"
   ]
  },
  {
   "cell_type": "code",
   "execution_count": null,
   "id": "7693184f",
   "metadata": {},
   "outputs": [],
   "source": [
    "columns_to_drop_train=train9.select_dtypes(include='object')\n",
    "train10=train9.drop(columns=columns_to_drop_train,axis=1)\n",
    "train10.shape\n",
    "\n",
    "columns_to_drop_test=test6.select_dtypes(include='object')\n",
    "test7=test6.drop(columns=columns_to_drop_test,axis=1)\n",
    "test7.shape"
   ]
  },
  {
   "cell_type": "code",
   "execution_count": null,
   "id": "68e9a0a8",
   "metadata": {},
   "outputs": [],
   "source": [
    "test7.head(2)"
   ]
  },
  {
   "cell_type": "code",
   "execution_count": null,
   "id": "843f8aaa",
   "metadata": {},
   "outputs": [],
   "source": [
    "train10.shape"
   ]
  },
  {
   "cell_type": "code",
   "execution_count": null,
   "id": "0b4c8514",
   "metadata": {},
   "outputs": [],
   "source": []
  },
  {
   "cell_type": "code",
   "execution_count": null,
   "id": "77cb02ca",
   "metadata": {},
   "outputs": [],
   "source": []
  },
  {
   "cell_type": "code",
   "execution_count": null,
   "id": "8df43dc1",
   "metadata": {},
   "outputs": [],
   "source": [
    "X=train10.copy()\n",
    "y=X.pop('SalePrice')"
   ]
  },
  {
   "cell_type": "code",
   "execution_count": null,
   "id": "40e9a468",
   "metadata": {},
   "outputs": [],
   "source": [
    "train_X, val_X, train_y, val_y = train_test_split(X,y,train_size=0.8,test_size=0.2,random_state=0)"
   ]
  },
  {
   "cell_type": "code",
   "execution_count": null,
   "id": "e2895e6f",
   "metadata": {},
   "outputs": [],
   "source": [
    "from sklearn.linear_model import LinearRegression\n",
    "lm=LinearRegression()\n",
    "lm.fit(train_X,train_y)\n",
    "lm.score(val_X,val_y)"
   ]
  },
  {
   "cell_type": "code",
   "execution_count": null,
   "id": "610eded9",
   "metadata": {},
   "outputs": [],
   "source": [
    "from sklearn.model_selection import ShuffleSplit\n",
    "from sklearn.model_selection import cross_val_score\n",
    "\n",
    "cv=ShuffleSplit(n_splits=5,test_size=0.2, random_state=0)\n",
    "\n",
    "cross_val_score(LinearRegression(),X,y,cv=cv)"
   ]
  },
  {
   "cell_type": "code",
   "execution_count": null,
   "id": "32d34c72",
   "metadata": {},
   "outputs": [],
   "source": [
    "from sklearn.model_selection import GridSearchCV\n",
    "\n",
    "from sklearn.linear_model import Lasso\n",
    "from sklearn.tree import DecisionTreeRegressor\n",
    "from sklearn.neighbors import KNeighborsRegressor\n",
    "from sklearn.ensemble import RandomForestRegressor\n",
    "from xgboost import XGBRegressor\n",
    "\n",
    "def find_best_model_Gridsearchcv (X,y):\n",
    "    \n",
    "    algo={\n",
    "        'Linear Regression': {\n",
    "            'model': LinearRegression(),\n",
    "            'params': {\n",
    "                'normalize': [True,False]\n",
    "            }\n",
    "        },\n",
    "        'Lasso': {\n",
    "            'model': Lasso(),\n",
    "            'params': {\n",
    "                'alpha': [1,2],\n",
    "                'selection': ['random','cyclic']\n",
    "            }\n",
    "        },\n",
    "        \n",
    "        'Decision Tree':{\n",
    "            'model': DecisionTreeRegressor(),\n",
    "            'params': {\n",
    "                'criterion': ['mse','friedman_mse'],\n",
    "                'splitter': ['best','random']\n",
    "            }\n",
    "        },\n",
    "       'Random Forest':{\n",
    "            'model': RandomForestRegressor(),\n",
    "            'params': {\n",
    "                'criterion': ['mse'],\n",
    "                'n_estimators': [100]\n",
    "                \n",
    "            }\n",
    "       },\n",
    "        \n",
    "        'K Nearest Neighbors':{\n",
    "            'model': KNeighborsRegressor(),\n",
    "            'params':{\n",
    "                'n_neighbors':[5]\n",
    "            }\n",
    "        },\n",
    "        \n",
    "        'XGBRegressor':{\n",
    "            'model': XGBRegressor(),\n",
    "            'params':{\n",
    "                'n_estimators':[50],\n",
    "                \n",
    "            }\n",
    "        },\n",
    "    }\n",
    "    \n",
    "    scores=[]\n",
    "    cv=ShuffleSplit(n_splits=5,test_size=0.2,random_state=0)\n",
    "    for algo_name, config in algo.items():\n",
    "        gs=GridSearchCV(config['model'],config['params'],cv=cv,return_train_score=False)\n",
    "        gs.fit(X,y)\n",
    "        scores.append({\n",
    "            'model':algo_name,\n",
    "            'best_score': gs.best_score_,\n",
    "            'best_params': gs.best_params_\n",
    "        })\n",
    "    return pd.DataFrame(scores,columns=['model','best_score','best_params'])\n",
    "\n",
    "find_best_model_Gridsearchcv (X,y)"
   ]
  },
  {
   "cell_type": "code",
   "execution_count": null,
   "id": "7b1d26d9",
   "metadata": {},
   "outputs": [],
   "source": [
    "test7.shape"
   ]
  },
  {
   "cell_type": "code",
   "execution_count": null,
   "id": "e0471644",
   "metadata": {},
   "outputs": [],
   "source": [
    "train10.shape"
   ]
  },
  {
   "cell_type": "code",
   "execution_count": null,
   "id": "6c140646",
   "metadata": {},
   "outputs": [],
   "source": []
  },
  {
   "cell_type": "code",
   "execution_count": null,
   "id": "547758bd",
   "metadata": {},
   "outputs": [],
   "source": [
    "final_train, final_test = X.align(test7, join='left', axis=1, fill_value=0)  # inner join"
   ]
  },
  {
   "cell_type": "code",
   "execution_count": null,
   "id": "95eef9ce",
   "metadata": {},
   "outputs": [],
   "source": []
  },
  {
   "cell_type": "code",
   "execution_count": null,
   "id": "34c2f8a9",
   "metadata": {},
   "outputs": [],
   "source": []
  },
  {
   "cell_type": "code",
   "execution_count": null,
   "id": "2eb7c4ef",
   "metadata": {},
   "outputs": [],
   "source": [
    "from sklearn.linear_model import Lasso\n",
    "lasso=Lasso()\n",
    "lasso.fit(train_X,train_y)\n",
    "test_pred=lasso.predict(final_test)"
   ]
  },
  {
   "cell_type": "code",
   "execution_count": null,
   "id": "dc9eb1e3",
   "metadata": {},
   "outputs": [],
   "source": [
    "output = pd.DataFrame({'Id': test7.Id,\n",
    "                       'SalePrice': test_pred})\n",
    "output.to_csv('Ames_Housing_Submissio_Rev-1,Date-01.12.2022.csv', index=False)"
   ]
  },
  {
   "cell_type": "code",
   "execution_count": null,
   "id": "a8b5483a",
   "metadata": {},
   "outputs": [],
   "source": [
    "from xgboost import XGBRegressor\n",
    "xgb=XGBRegressor()\n",
    "xgb.fit(train_X,train_y)\n",
    "test_pred_xgb=xgb.predict(final_test)"
   ]
  },
  {
   "cell_type": "code",
   "execution_count": null,
   "id": "8b9d0bf9",
   "metadata": {},
   "outputs": [],
   "source": [
    "output = pd.DataFrame({'Id': test7.Id,\n",
    "                       'SalePrice': test_pred_xgb})\n",
    "output.to_csv('Ames_Housing_Submissio_Rev-2,Date-01.12.2022.csv', index=False)"
   ]
  },
  {
   "cell_type": "code",
   "execution_count": null,
   "id": "338be69a",
   "metadata": {},
   "outputs": [],
   "source": []
  }
 ],
 "metadata": {
  "kernelspec": {
   "display_name": "Python 3 (ipykernel)",
   "language": "python",
   "name": "python3"
  },
  "language_info": {
   "codemirror_mode": {
    "name": "ipython",
    "version": 3
   },
   "file_extension": ".py",
   "mimetype": "text/x-python",
   "name": "python",
   "nbconvert_exporter": "python",
   "pygments_lexer": "ipython3",
   "version": "3.9.13"
  }
 },
 "nbformat": 4,
 "nbformat_minor": 5
}
