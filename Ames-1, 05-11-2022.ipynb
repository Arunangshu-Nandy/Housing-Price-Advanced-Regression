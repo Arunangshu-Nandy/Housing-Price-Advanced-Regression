{
 "cells": [
  {
   "cell_type": "code",
   "execution_count": 4,
   "id": "1779e6e5",
   "metadata": {},
   "outputs": [],
   "source": [
    "import pandas as pd\n",
    "import numpy as np\n",
    "import matplotlib.pyplot as plt\n",
    "import seaborn as sns\n",
    "from sklearn.cluster import KMeans\n",
    "from sklearn.compose import ColumnTransformer\n",
    "from sklearn.model_selection import cross_val_score\n",
    "import sklearn.preprocessing as preprocessing\n",
    "import xgboost as xgb\n",
    "from xgboost import XGBRegressor\n",
    "from sklearn.model_selection import train_test_split\n",
    "from sklearn.impute import SimpleImputer\n",
    "from sklearn.ensemble import RandomForestRegressor\n",
    "from sklearn.metrics import mean_absolute_error\n",
    "from sklearn.model_selection import cross_val_score\n",
    "from sklearn.neighbors import KNeighborsRegressor"
   ]
  },
  {
   "cell_type": "code",
   "execution_count": 5,
   "id": "0bea19fb",
   "metadata": {},
   "outputs": [],
   "source": [
    "def score_dataset(X, y, model=XGBRegressor()):\n",
    "    # Label encoding for categoricals\n",
    "    for colname in X.select_dtypes([\"category\", \"object\"]):\n",
    "        X[colname], _ = X[colname].factorize()\n",
    "    # Metric for Housing competition is RMSLE (Root Mean Squared Log Error)\n",
    "    score = cross_val_score(\n",
    "        model, X, y, cv=5, scoring=\"neg_mean_squared_log_error\",\n",
    "    )\n",
    "    score = -1 * score.mean()\n",
    "    score = np.sqrt(score)\n",
    "    return score"
   ]
  },
  {
   "cell_type": "code",
   "execution_count": 6,
   "id": "1b80e5ab",
   "metadata": {},
   "outputs": [],
   "source": [
    "train=pd.read_csv('train.csv')\n",
    "test=pd.read_csv('test.csv')"
   ]
  },
  {
   "cell_type": "code",
   "execution_count": 7,
   "id": "553ee1e6",
   "metadata": {},
   "outputs": [
    {
     "data": {
      "text/plain": [
       "(1460, 81)"
      ]
     },
     "execution_count": 7,
     "metadata": {},
     "output_type": "execute_result"
    }
   ],
   "source": [
    "train.shape"
   ]
  },
  {
   "cell_type": "code",
   "execution_count": 8,
   "id": "7cc24c25",
   "metadata": {
    "scrolled": true
   },
   "outputs": [
    {
     "data": {
      "text/plain": [
       "<AxesSubplot:>"
      ]
     },
     "execution_count": 8,
     "metadata": {},
     "output_type": "execute_result"
    },
    {
     "data": {
      "image/png": "[encoded data removed]",
      "text/plain": [
       "<Figure size 432x288 with 2 Axes>"
      ]
     },
     "metadata": {
      "needs_background": "light"
     },
     "output_type": "display_data"
    }
   ],
   "source": [
    "sns.heatmap(train.isnull(),yticklabels=False, cmap='viridis')"
   ]
  },
  {
   "cell_type": "code",
   "execution_count": 9,
   "id": "4dcd6d8e",
   "metadata": {},
   "outputs": [],
   "source": [
    "train.dropna(subset=['SalePrice'],axis=0,inplace=True)"
   ]
  },
  {
   "cell_type": "code",
   "execution_count": 10,
   "id": "b47805a6",
   "metadata": {},
   "outputs": [],
   "source": [
    "X=train.copy()\n",
    "y=X.pop('SalePrice')\n",
    "model=RandomForestRegressor(n_estimators=100,random_state=0)\n",
    "\n",
    "def MAE_calculation(X,y,model):\n",
    "    \"Step-1 Replacement of NaN\"\n",
    "    from sklearn.compose import ColumnTransformer\n",
    "    column_trans = ColumnTransformer(\n",
    "        [(X.select_dtypes(['float64','int64']),SimpleImputer(strategy='most_frequent')),\n",
    "         (X.select_dtypes(['object']), SimpleImputer(strategy='most_frequent'))],\n",
    "        remainder='passthrough')\n",
    "    \n",
    "    \"Step-2*** Factorization of categorical columns\"\n",
    "    for colname in X.select_dtypes([\"category\", \"object\"]):\n",
    "        X[colname],_ = X[colname].factorize()\n",
    "        \n",
    "    \"Step-3*** Train test & split\"\n",
    "    train_X, val_X, train_y, val_y = train_test_split(X,y,train_size=0.8,test_size=0.2,random_state=0)\n",
    "    \n",
    "    \"Step-4*** Final Step of error calculation \"\n",
    "    model.fit(train_X,train_y)\n",
    "    \n",
    "    #scores =cross_val_score(model.predict(X),y, cv=3, scoring='mean_absolute_error')\n",
    "    \n",
    "    print(\"MAE is:\",mean_absolute_error(model.predict(val_X),val_y))"
   ]
  },
  {
   "cell_type": "code",
   "execution_count": 11,
   "id": "3edcb176",
   "metadata": {},
   "outputs": [
    {
     "name": "stdout",
     "output_type": "stream",
     "text": [
      "MAE is: 17581.744075342463\n"
     ]
    }
   ],
   "source": [
    "X.drop(columns=['LotFrontage','MasVnrArea','GarageYrBlt'],inplace=True)\n",
    "MAE_calculation(X,y,model)"
   ]
  },
  {
   "cell_type": "code",
   "execution_count": 12,
   "id": "510aef8d",
   "metadata": {},
   "outputs": [
    {
     "name": "stdout",
     "output_type": "stream",
     "text": [
      "MAE is: 30927.228767123284\n"
     ]
    }
   ],
   "source": [
    "MAE_calculation(X,y,model=KNeighborsRegressor())"
   ]
  },
  {
   "cell_type": "code",
   "execution_count": 13,
   "id": "89461fbe",
   "metadata": {},
   "outputs": [
    {
     "data": {
      "text/plain": [
       "OverallQual      0.531759\n",
       "TotalBsmtSF      0.247109\n",
       "BsmtFinSF1       0.124348\n",
       "CentralAir       0.069351\n",
       "WoodDeckSF       0.049309\n",
       "EnclosedPorch    0.026607\n",
       "3SsnPorch        0.008549\n",
       "PoolArea         0.000000\n",
       "Name: MI Scores, dtype: float64"
      ]
     },
     "execution_count": 13,
     "metadata": {},
     "output_type": "execute_result"
    }
   ],
   "source": [
    "discrete_features = X.dtypes == int\n",
    "\n",
    "from sklearn.feature_selection import mutual_info_regression\n",
    "\n",
    "def make_mi_scores(X, y, discrete_features):\n",
    "    mi_scores = mutual_info_regression(X, y, discrete_features=discrete_features)\n",
    "    mi_scores = pd.Series(mi_scores, name=\"MI Scores\", index=X.columns)\n",
    "    mi_scores = mi_scores.sort_values(ascending=False)\n",
    "    return mi_scores\n",
    "\n",
    "mi_scores = make_mi_scores(X, y, discrete_features)\n",
    "mi_scores[::10] "
   ]
  },
  {
   "cell_type": "code",
   "execution_count": 14,
   "id": "e7050925",
   "metadata": {},
   "outputs": [
    {
     "data": {
      "image/png": "[encoded data removed]",
      "text/plain": [
       "<Figure size 800x1500 with 1 Axes>"
      ]
     },
     "metadata": {
      "needs_background": "light"
     },
     "output_type": "display_data"
    }
   ],
   "source": [
    "def plot_mi_scores(scores):\n",
    "    scores = scores.sort_values(ascending=True)\n",
    "    width = np.arange(len(scores))\n",
    "    ticks = list(scores.index)\n",
    "    plt.barh(width, scores)\n",
    "    plt.yticks(width, ticks)\n",
    "    plt.title(\"Mutual Information Scores\")\n",
    "\n",
    "\n",
    "plt.figure(dpi=100, figsize=(8, 15))\n",
    "plot_mi_scores(mi_scores)"
   ]
  },
  {
   "cell_type": "code",
   "execution_count": 15,
   "id": "a51cc9a9",
   "metadata": {},
   "outputs": [],
   "source": [
    "def compare_object_columns(train,test):\n",
    "    l=train.select_dtypes(include='object').columns.tolist()\n",
    "    for i in l:\n",
    "        Tr=train[i].unique().tolist()\n",
    "        Te=test[i].unique().tolist()\n",
    "        if set(train[i].unique())!=set(test[i].unique()):\n",
    "            Tr=[\"nan\" if x is np.nan else x for x in Tr]\n",
    "            print ('**** train:',i,sorted(set(Tr)),end='\\n')\n",
    "            Te=[\"nan\" if x is np.nan else x for x in Te]\n",
    "            print ('#### test:',i,sorted(set(Te)),end='\\n''\\n')"
   ]
  },
  {
   "cell_type": "code",
   "execution_count": 16,
   "id": "452d23d3",
   "metadata": {},
   "outputs": [
    {
     "name": "stdout",
     "output_type": "stream",
     "text": [
      "**** train: Utilities ['AllPub', 'NoSeWa']\n",
      "#### test: Utilities ['AllPub']\n",
      "\n",
      "**** train: Condition2 ['Artery', 'Feedr', 'Norm', 'PosA', 'PosN', 'RRAe', 'RRAn', 'RRNn']\n",
      "#### test: Condition2 ['Artery', 'Feedr', 'Norm', 'PosA', 'PosN']\n",
      "\n",
      "**** train: HouseStyle ['1.5Fin', '1.5Unf', '1Story', '2.5Fin', '2.5Unf', '2Story', 'SFoyer', 'SLvl']\n",
      "#### test: HouseStyle ['1.5Fin', '1.5Unf', '1Story', '2.5Unf', '2Story', 'SFoyer', 'SLvl']\n",
      "\n",
      "**** train: RoofMatl ['ClyTile', 'CompShg', 'Membran', 'Metal', 'Roll', 'Tar&Grv', 'WdShake', 'WdShngl']\n",
      "#### test: RoofMatl ['CompShg', 'Tar&Grv', 'WdShake', 'WdShngl']\n",
      "\n",
      "**** train: Exterior1st ['AsbShng', 'AsphShn', 'BrkComm', 'BrkFace', 'CBlock', 'CemntBd', 'HdBoard', 'ImStucc', 'MetalSd', 'Plywood', 'Stone', 'Stucco', 'VinylSd', 'Wd Sdng', 'WdShing']\n",
      "#### test: Exterior1st ['AsbShng', 'AsphShn', 'BrkComm', 'BrkFace', 'CBlock', 'CemntBd', 'HdBoard', 'MetalSd', 'Plywood', 'Stucco', 'VinylSd', 'Wd Sdng', 'WdShing']\n",
      "\n",
      "**** train: Exterior2nd ['AsbShng', 'AsphShn', 'Brk Cmn', 'BrkFace', 'CBlock', 'CmentBd', 'HdBoard', 'ImStucc', 'MetalSd', 'Other', 'Plywood', 'Stone', 'Stucco', 'VinylSd', 'Wd Sdng', 'Wd Shng']\n",
      "#### test: Exterior2nd ['AsbShng', 'AsphShn', 'Brk Cmn', 'BrkFace', 'CBlock', 'CmentBd', 'HdBoard', 'ImStucc', 'MetalSd', 'Plywood', 'Stone', 'Stucco', 'VinylSd', 'Wd Sdng', 'Wd Shng']\n",
      "\n",
      "**** train: Heating ['Floor', 'GasA', 'GasW', 'Grav', 'OthW', 'Wall']\n",
      "#### test: Heating ['GasA', 'GasW', 'Grav', 'Wall']\n",
      "\n",
      "**** train: Electrical ['FuseA', 'FuseF', 'FuseP', 'Mix', 'SBrkr', 'nan']\n",
      "#### test: Electrical ['FuseA', 'FuseF', 'FuseP', 'SBrkr']\n",
      "\n",
      "**** train: GarageQual ['Ex', 'Fa', 'Gd', 'Po', 'TA', 'nan']\n",
      "#### test: GarageQual ['Fa', 'Gd', 'Po', 'TA', 'nan']\n",
      "\n",
      "**** train: PoolQC ['Ex', 'Fa', 'Gd', 'nan']\n",
      "#### test: PoolQC ['Ex', 'Gd', 'nan']\n",
      "\n",
      "**** train: MiscFeature ['Gar2', 'Othr', 'Shed', 'TenC', 'nan']\n",
      "#### test: MiscFeature ['Gar2', 'Othr', 'Shed', 'nan']\n",
      "\n"
     ]
    }
   ],
   "source": [
    "compare_object_columns(train,test)"
   ]
  },
  {
   "cell_type": "code",
   "execution_count": 17,
   "id": "dd9521ee",
   "metadata": {
    "scrolled": true
   },
   "outputs": [
    {
     "data": {
      "text/plain": [
       "Index(['Id', 'MSSubClass', 'MSZoning', 'LotFrontage', 'LotArea', 'Street',\n",
       "       'Alley', 'LotShape', 'LandContour', 'Utilities', 'LotConfig',\n",
       "       'LandSlope', 'Neighborhood', 'Condition1', 'Condition2', 'BldgType',\n",
       "       'HouseStyle', 'OverallQual', 'OverallCond', 'YearBuilt', 'YearRemodAdd',\n",
       "       'RoofStyle', 'RoofMatl', 'Exterior1st', 'Exterior2nd', 'MasVnrType',\n",
       "       'MasVnrArea', 'ExterQual', 'ExterCond', 'Foundation', 'BsmtQual',\n",
       "       'BsmtCond', 'BsmtExposure', 'BsmtFinType1', 'BsmtFinSF1',\n",
       "       'BsmtFinType2', 'BsmtFinSF2', 'BsmtUnfSF', 'TotalBsmtSF', 'Heating',\n",
       "       'HeatingQC', 'CentralAir', 'Electrical', '1stFlrSF', '2ndFlrSF',\n",
       "       'LowQualFinSF', 'GrLivArea', 'BsmtFullBath', 'BsmtHalfBath', 'FullBath',\n",
       "       'HalfBath', 'BedroomAbvGr', 'KitchenAbvGr', 'KitchenQual',\n",
       "       'TotRmsAbvGrd', 'Functional', 'Fireplaces', 'FireplaceQu', 'GarageType',\n",
       "       'GarageYrBlt', 'GarageFinish', 'GarageCars', 'GarageArea', 'GarageQual',\n",
       "       'GarageCond', 'PavedDrive', 'WoodDeckSF', 'OpenPorchSF',\n",
       "       'EnclosedPorch', '3SsnPorch', 'ScreenPorch', 'PoolArea', 'PoolQC',\n",
       "       'Fence', 'MiscFeature', 'MiscVal', 'MoSold', 'YrSold', 'SaleType',\n",
       "       'SaleCondition', 'SalePrice'],\n",
       "      dtype='object')"
      ]
     },
     "execution_count": 17,
     "metadata": {},
     "output_type": "execute_result"
    }
   ],
   "source": [
    "train.columns"
   ]
  },
  {
   "cell_type": "code",
   "execution_count": 18,
   "id": "b9e1a5aa",
   "metadata": {},
   "outputs": [
    {
     "data": {
      "text/plain": [
       "1460"
      ]
     },
     "execution_count": 18,
     "metadata": {},
     "output_type": "execute_result"
    }
   ],
   "source": [
    "len(train)"
   ]
  },
  {
   "cell_type": "code",
   "execution_count": 19,
   "id": "58f24c40",
   "metadata": {},
   "outputs": [
    {
     "name": "stdout",
     "output_type": "stream",
     "text": [
      "** Utilities ** \n",
      " \n",
      " Utilities\n",
      "AllPub    1459\n",
      "NoSeWa       1\n",
      "Name: Utilities, dtype: int64 **/n**\n",
      "** Condition2 ** \n",
      " \n",
      " Condition2\n",
      "Artery       2\n",
      "Feedr        6\n",
      "Norm      1445\n",
      "PosA         1\n",
      "PosN         2\n",
      "RRAe         1\n",
      "RRAn         1\n",
      "RRNn         2\n",
      "Name: Condition2, dtype: int64 **/n**\n",
      "** HouseStyle ** \n",
      " \n",
      " HouseStyle\n",
      "1.5Fin    154\n",
      "1.5Unf     14\n",
      "1Story    726\n",
      "2.5Fin      8\n",
      "2.5Unf     11\n",
      "2Story    445\n",
      "SFoyer     37\n",
      "SLvl       65\n",
      "Name: HouseStyle, dtype: int64 **/n**\n",
      "** RoofMatl ** \n",
      " \n",
      " RoofMatl\n",
      "ClyTile       1\n",
      "CompShg    1434\n",
      "Membran       1\n",
      "Metal         1\n",
      "Roll          1\n",
      "Tar&Grv      11\n",
      "WdShake       5\n",
      "WdShngl       6\n",
      "Name: RoofMatl, dtype: int64 **/n**\n",
      "** Exterior1st ** \n",
      " \n",
      " Exterior1st\n",
      "AsbShng     20\n",
      "AsphShn      1\n",
      "BrkComm      2\n",
      "BrkFace     50\n",
      "CBlock       1\n",
      "CemntBd     61\n",
      "HdBoard    222\n",
      "ImStucc      1\n",
      "MetalSd    220\n",
      "Plywood    108\n",
      "Stone        2\n",
      "Stucco      25\n",
      "VinylSd    515\n",
      "Wd Sdng    206\n",
      "WdShing     26\n",
      "Name: Exterior1st, dtype: int64 **/n**\n",
      "** Exterior2nd ** \n",
      " \n",
      " Exterior2nd\n",
      "AsbShng     20\n",
      "AsphShn      3\n",
      "Brk Cmn      7\n",
      "BrkFace     25\n",
      "CBlock       1\n",
      "CmentBd     60\n",
      "HdBoard    207\n",
      "ImStucc     10\n",
      "MetalSd    214\n",
      "Other        1\n",
      "Plywood    142\n",
      "Stone        5\n",
      "Stucco      26\n",
      "VinylSd    504\n",
      "Wd Sdng    197\n",
      "Wd Shng     38\n",
      "Name: Exterior2nd, dtype: int64 **/n**\n",
      "** Heating ** \n",
      " \n",
      " Heating\n",
      "Floor       1\n",
      "GasA     1428\n",
      "GasW       18\n",
      "Grav        7\n",
      "OthW        2\n",
      "Wall        4\n",
      "Name: Heating, dtype: int64 **/n**\n",
      "** Electrical ** \n",
      " \n",
      " Electrical\n",
      "FuseA      94\n",
      "FuseF      27\n",
      "FuseP       3\n",
      "Mix         1\n",
      "SBrkr    1334\n",
      "Name: Electrical, dtype: int64 **/n**\n",
      "** GarageQual ** \n",
      " \n",
      " GarageQual\n",
      "Ex       3\n",
      "Fa      48\n",
      "Gd      14\n",
      "Po       3\n",
      "TA    1311\n",
      "Name: GarageQual, dtype: int64 **/n**\n",
      "** PoolQC ** \n",
      " \n",
      " PoolQC\n",
      "Ex    2\n",
      "Fa    2\n",
      "Gd    3\n",
      "Name: PoolQC, dtype: int64 **/n**\n",
      "** MiscFeature ** \n",
      " \n",
      " MiscFeature\n",
      "Gar2     2\n",
      "Othr     2\n",
      "Shed    49\n",
      "TenC     1\n",
      "Name: MiscFeature, dtype: int64 **/n**\n"
     ]
    }
   ],
   "source": [
    "for cols in train.select_dtypes(include='object'):\n",
    "    if set(train[cols].unique())!=set(test[cols].unique()):\n",
    "        print ('**',cols,'**','\\n','\\n',train.groupby(cols)[cols].agg('count'),'**/n**')\n",
    "    "
   ]
  },
  {
   "cell_type": "code",
   "execution_count": 20,
   "id": "b5ea954d",
   "metadata": {},
   "outputs": [
    {
     "data": {
      "text/plain": [
       "'Hence we are dropping all these rows from train dataset. Point to be noted that these are not there in test dataset also'"
      ]
     },
     "execution_count": 20,
     "metadata": {},
     "output_type": "execute_result"
    }
   ],
   "source": [
    "\"from above two studies we see that MiscFeature: TenC=1, PoolQC: Fa=2, GarageQual: Ex=3, Eelctrical: Mix=1, Heating: Floor &\" \n",
    "\"OthW are 1 & 2, Exterior2nd: Other=1, Exterior1st: Imstucc & Stone 1 & 2, RoomMatl: ClyTile=1, Membran=1, Metal=1 & Roll=1\"\n",
    "\"HouseStyle 2.5Fin=8, Condition2:RRAe=1, RRAn=1, RRNn=2, Utilities: NoSeWa=1 // In short these are in very small qty. Hence\"\n",
    "\"Hence we are dropping all these rows from train dataset. Point to be noted that these are not there in test dataset also\""
   ]
  },
  {
   "cell_type": "code",
   "execution_count": 21,
   "id": "ac6ad73d",
   "metadata": {},
   "outputs": [],
   "source": [
    "train1=train[(train.MiscFeature !='TenC') & (train.PoolQC !='Fa') & (train.GarageQual !='Ex') \n",
    "              & (train.Electrical !='Mix') & (train.Heating.isin(['Floor','OthW'])==False) & \n",
    "             (train.Exterior1st.isin(['ImStucc','Stone'])==False)\n",
    "             & (train.Exterior2nd !='Other') & (train.RoofMatl.isin(['ClyTile','Membran','Metal','Roll'])==False)\n",
    "             & (train.HouseStyle !='2.5Fin') & (train.Condition2.isin(['RRAe','RRAn','RRNn'])==False) & (train.Utilities !='NoSeWa')]"
   ]
  },
  {
   "cell_type": "code",
   "execution_count": 22,
   "id": "29d2f2a9",
   "metadata": {},
   "outputs": [
    {
     "data": {
      "text/plain": [
       "(1431, 81)"
      ]
     },
     "execution_count": 22,
     "metadata": {},
     "output_type": "execute_result"
    }
   ],
   "source": [
    "train1.shape"
   ]
  },
  {
   "cell_type": "code",
   "execution_count": null,
   "id": "f065bc8b",
   "metadata": {},
   "outputs": [],
   "source": []
  },
  {
   "cell_type": "code",
   "execution_count": 23,
   "id": "135782ac",
   "metadata": {
    "scrolled": true
   },
   "outputs": [
    {
     "data": {
      "text/plain": [
       "array([3, 4, 1, 2, 0, 5, 6], dtype=int64)"
      ]
     },
     "execution_count": 23,
     "metadata": {},
     "output_type": "execute_result"
    }
   ],
   "source": [
    "train1.BedroomAbvGr.unique()"
   ]
  },
  {
   "cell_type": "code",
   "execution_count": 24,
   "id": "111e08c8",
   "metadata": {
    "scrolled": true
   },
   "outputs": [],
   "source": [
    "\"Exploring the 0 bedroom sizes: which clearly does not make any sense\"\n",
    "\n",
    "train[train.BedroomAbvGr==0].shape\n",
    "\n",
    "\"So we have 6 such cases, which we are dropping\"\n",
    "\n",
    "train2=train1[(train1.BedroomAbvGr!=0)]\n"
   ]
  },
  {
   "cell_type": "code",
   "execution_count": 25,
   "id": "9bbdc12a",
   "metadata": {},
   "outputs": [
    {
     "data": {
      "text/plain": [
       "(1425, 81)"
      ]
     },
     "execution_count": 25,
     "metadata": {},
     "output_type": "execute_result"
    }
   ],
   "source": [
    "train2.shape"
   ]
  },
  {
   "cell_type": "code",
   "execution_count": 26,
   "id": "4fc9f5ae",
   "metadata": {},
   "outputs": [
    {
     "data": {
      "text/plain": [
       "'Let us explore the construction area , sales price and bedroom size'"
      ]
     },
     "execution_count": 26,
     "metadata": {},
     "output_type": "execute_result"
    }
   ],
   "source": [
    "\"Let us explore the construction area , sales price and bedroom size\""
   ]
  },
  {
   "cell_type": "code",
   "execution_count": 27,
   "id": "56c74894",
   "metadata": {},
   "outputs": [
    {
     "data": {
      "text/html": [
       "<div>\n",
       "<style scoped>\n",
       "    .dataframe tbody tr th:only-of-type {\n",
       "        vertical-align: middle;\n",
       "    }\n",
       "\n",
       "    .dataframe tbody tr th {\n",
       "        vertical-align: top;\n",
       "    }\n",
       "\n",
       "    .dataframe thead th {\n",
       "        text-align: right;\n",
       "    }\n",
       "</style>\n",
       "<table border=\"1\" class=\"dataframe\">\n",
       "  <thead>\n",
       "    <tr style=\"text-align: right;\">\n",
       "      <th></th>\n",
       "      <th>LotArea</th>\n",
       "      <th>BsmtUnfSF</th>\n",
       "      <th>TotalBsmtSF</th>\n",
       "      <th>1stFlrSF</th>\n",
       "      <th>2ndFlrSF</th>\n",
       "      <th>GarageArea</th>\n",
       "      <th>GrLivArea</th>\n",
       "      <th>WoodDeckSF</th>\n",
       "      <th>OpenPorchSF</th>\n",
       "      <th>EnclosedPorch</th>\n",
       "      <th>3SsnPorch</th>\n",
       "      <th>ScreenPorch</th>\n",
       "      <th>PoolArea</th>\n",
       "    </tr>\n",
       "  </thead>\n",
       "  <tbody>\n",
       "    <tr>\n",
       "      <th>0</th>\n",
       "      <td>8450</td>\n",
       "      <td>150</td>\n",
       "      <td>856</td>\n",
       "      <td>856</td>\n",
       "      <td>854</td>\n",
       "      <td>548</td>\n",
       "      <td>1710</td>\n",
       "      <td>0</td>\n",
       "      <td>61</td>\n",
       "      <td>0</td>\n",
       "      <td>0</td>\n",
       "      <td>0</td>\n",
       "      <td>0</td>\n",
       "    </tr>\n",
       "    <tr>\n",
       "      <th>1</th>\n",
       "      <td>9600</td>\n",
       "      <td>284</td>\n",
       "      <td>1262</td>\n",
       "      <td>1262</td>\n",
       "      <td>0</td>\n",
       "      <td>460</td>\n",
       "      <td>1262</td>\n",
       "      <td>298</td>\n",
       "      <td>0</td>\n",
       "      <td>0</td>\n",
       "      <td>0</td>\n",
       "      <td>0</td>\n",
       "      <td>0</td>\n",
       "    </tr>\n",
       "    <tr>\n",
       "      <th>2</th>\n",
       "      <td>11250</td>\n",
       "      <td>434</td>\n",
       "      <td>920</td>\n",
       "      <td>920</td>\n",
       "      <td>866</td>\n",
       "      <td>608</td>\n",
       "      <td>1786</td>\n",
       "      <td>0</td>\n",
       "      <td>42</td>\n",
       "      <td>0</td>\n",
       "      <td>0</td>\n",
       "      <td>0</td>\n",
       "      <td>0</td>\n",
       "    </tr>\n",
       "    <tr>\n",
       "      <th>3</th>\n",
       "      <td>9550</td>\n",
       "      <td>540</td>\n",
       "      <td>756</td>\n",
       "      <td>961</td>\n",
       "      <td>756</td>\n",
       "      <td>642</td>\n",
       "      <td>1717</td>\n",
       "      <td>0</td>\n",
       "      <td>35</td>\n",
       "      <td>272</td>\n",
       "      <td>0</td>\n",
       "      <td>0</td>\n",
       "      <td>0</td>\n",
       "    </tr>\n",
       "    <tr>\n",
       "      <th>4</th>\n",
       "      <td>14260</td>\n",
       "      <td>490</td>\n",
       "      <td>1145</td>\n",
       "      <td>1145</td>\n",
       "      <td>1053</td>\n",
       "      <td>836</td>\n",
       "      <td>2198</td>\n",
       "      <td>192</td>\n",
       "      <td>84</td>\n",
       "      <td>0</td>\n",
       "      <td>0</td>\n",
       "      <td>0</td>\n",
       "      <td>0</td>\n",
       "    </tr>\n",
       "    <tr>\n",
       "      <th>...</th>\n",
       "      <td>...</td>\n",
       "      <td>...</td>\n",
       "      <td>...</td>\n",
       "      <td>...</td>\n",
       "      <td>...</td>\n",
       "      <td>...</td>\n",
       "      <td>...</td>\n",
       "      <td>...</td>\n",
       "      <td>...</td>\n",
       "      <td>...</td>\n",
       "      <td>...</td>\n",
       "      <td>...</td>\n",
       "      <td>...</td>\n",
       "    </tr>\n",
       "    <tr>\n",
       "      <th>1455</th>\n",
       "      <td>7917</td>\n",
       "      <td>953</td>\n",
       "      <td>953</td>\n",
       "      <td>953</td>\n",
       "      <td>694</td>\n",
       "      <td>460</td>\n",
       "      <td>1647</td>\n",
       "      <td>0</td>\n",
       "      <td>40</td>\n",
       "      <td>0</td>\n",
       "      <td>0</td>\n",
       "      <td>0</td>\n",
       "      <td>0</td>\n",
       "    </tr>\n",
       "    <tr>\n",
       "      <th>1456</th>\n",
       "      <td>13175</td>\n",
       "      <td>589</td>\n",
       "      <td>1542</td>\n",
       "      <td>2073</td>\n",
       "      <td>0</td>\n",
       "      <td>500</td>\n",
       "      <td>2073</td>\n",
       "      <td>349</td>\n",
       "      <td>0</td>\n",
       "      <td>0</td>\n",
       "      <td>0</td>\n",
       "      <td>0</td>\n",
       "      <td>0</td>\n",
       "    </tr>\n",
       "    <tr>\n",
       "      <th>1457</th>\n",
       "      <td>9042</td>\n",
       "      <td>877</td>\n",
       "      <td>1152</td>\n",
       "      <td>1188</td>\n",
       "      <td>1152</td>\n",
       "      <td>252</td>\n",
       "      <td>2340</td>\n",
       "      <td>0</td>\n",
       "      <td>60</td>\n",
       "      <td>0</td>\n",
       "      <td>0</td>\n",
       "      <td>0</td>\n",
       "      <td>0</td>\n",
       "    </tr>\n",
       "    <tr>\n",
       "      <th>1458</th>\n",
       "      <td>9717</td>\n",
       "      <td>0</td>\n",
       "      <td>1078</td>\n",
       "      <td>1078</td>\n",
       "      <td>0</td>\n",
       "      <td>240</td>\n",
       "      <td>1078</td>\n",
       "      <td>366</td>\n",
       "      <td>0</td>\n",
       "      <td>112</td>\n",
       "      <td>0</td>\n",
       "      <td>0</td>\n",
       "      <td>0</td>\n",
       "    </tr>\n",
       "    <tr>\n",
       "      <th>1459</th>\n",
       "      <td>9937</td>\n",
       "      <td>136</td>\n",
       "      <td>1256</td>\n",
       "      <td>1256</td>\n",
       "      <td>0</td>\n",
       "      <td>276</td>\n",
       "      <td>1256</td>\n",
       "      <td>736</td>\n",
       "      <td>68</td>\n",
       "      <td>0</td>\n",
       "      <td>0</td>\n",
       "      <td>0</td>\n",
       "      <td>0</td>\n",
       "    </tr>\n",
       "  </tbody>\n",
       "</table>\n",
       "<p>1425 rows × 13 columns</p>\n",
       "</div>"
      ],
      "text/plain": [
       "      LotArea  BsmtUnfSF  TotalBsmtSF  1stFlrSF  2ndFlrSF  GarageArea  \\\n",
       "0        8450        150          856       856       854         548   \n",
       "1        9600        284         1262      1262         0         460   \n",
       "2       11250        434          920       920       866         608   \n",
       "3        9550        540          756       961       756         642   \n",
       "4       14260        490         1145      1145      1053         836   \n",
       "...       ...        ...          ...       ...       ...         ...   \n",
       "1455     7917        953          953       953       694         460   \n",
       "1456    13175        589         1542      2073         0         500   \n",
       "1457     9042        877         1152      1188      1152         252   \n",
       "1458     9717          0         1078      1078         0         240   \n",
       "1459     9937        136         1256      1256         0         276   \n",
       "\n",
       "      GrLivArea  WoodDeckSF  OpenPorchSF  EnclosedPorch  3SsnPorch  \\\n",
       "0          1710           0           61              0          0   \n",
       "1          1262         298            0              0          0   \n",
       "2          1786           0           42              0          0   \n",
       "3          1717           0           35            272          0   \n",
       "4          2198         192           84              0          0   \n",
       "...         ...         ...          ...            ...        ...   \n",
       "1455       1647           0           40              0          0   \n",
       "1456       2073         349            0              0          0   \n",
       "1457       2340           0           60              0          0   \n",
       "1458       1078         366            0            112          0   \n",
       "1459       1256         736           68              0          0   \n",
       "\n",
       "      ScreenPorch  PoolArea  \n",
       "0               0         0  \n",
       "1               0         0  \n",
       "2               0         0  \n",
       "3               0         0  \n",
       "4               0         0  \n",
       "...           ...       ...  \n",
       "1455            0         0  \n",
       "1456            0         0  \n",
       "1457            0         0  \n",
       "1458            0         0  \n",
       "1459            0         0  \n",
       "\n",
       "[1425 rows x 13 columns]"
      ]
     },
     "execution_count": 27,
     "metadata": {},
     "output_type": "execute_result"
    }
   ],
   "source": [
    "train2.loc[:,('LotArea','BsmtUnfSF','TotalBsmtSF','1stFlrSF', '2ndFlrSF','GarageArea','GrLivArea','WoodDeckSF', 'OpenPorchSF',\n",
    "       'EnclosedPorch','3SsnPorch', 'ScreenPorch', 'PoolArea')]"
   ]
  },
  {
   "cell_type": "code",
   "execution_count": 28,
   "id": "3ae6ba66",
   "metadata": {},
   "outputs": [
    {
     "name": "stderr",
     "output_type": "stream",
     "text": [
      "<ipython-input-28-c597774ff537>:1: SettingWithCopyWarning: \n",
      "A value is trying to be set on a copy of a slice from a DataFrame.\n",
      "Try using .loc[row_indexer,col_indexer] = value instead\n",
      "\n",
      "See the caveats in the documentation: https://pandas.pydata.org/pandas-docs/stable/user_guide/indexing.html#returning-a-view-versus-a-copy\n",
      "  train2['Total_SF']=train2[['TotalBsmtSF','1stFlrSF', '2ndFlrSF','GarageArea','GrLivArea','WoodDeckSF', 'OpenPorchSF',\n"
     ]
    }
   ],
   "source": [
    "train2['Total_SF']=train2[['TotalBsmtSF','1stFlrSF', '2ndFlrSF','GarageArea','GrLivArea','WoodDeckSF', 'OpenPorchSF',\n",
    "       'EnclosedPorch','3SsnPorch', 'ScreenPorch', 'PoolArea']].sum(axis=1)\n",
    "\n",
    "test['Total_SF']=test[['TotalBsmtSF','1stFlrSF', '2ndFlrSF','GarageArea','GrLivArea','WoodDeckSF', 'OpenPorchSF',\n",
    "       'EnclosedPorch','3SsnPorch', 'ScreenPorch', 'PoolArea']].sum(axis=1)\n",
    "\n",
    "test2=test.copy()"
   ]
  },
  {
   "cell_type": "code",
   "execution_count": 29,
   "id": "1171df54",
   "metadata": {},
   "outputs": [
    {
     "name": "stderr",
     "output_type": "stream",
     "text": [
      "<ipython-input-29-50474fa49e00>:1: SettingWithCopyWarning: \n",
      "A value is trying to be set on a copy of a slice from a DataFrame.\n",
      "Try using .loc[row_indexer,col_indexer] = value instead\n",
      "\n",
      "See the caveats in the documentation: https://pandas.pydata.org/pandas-docs/stable/user_guide/indexing.html#returning-a-view-versus-a-copy\n",
      "  train2['Per_SF_Rate']=(train2['SalePrice']/train2['Total_SF']).round(0)\n"
     ]
    }
   ],
   "source": [
    "train2['Per_SF_Rate']=(train2['SalePrice']/train2['Total_SF']).round(0)"
   ]
  },
  {
   "cell_type": "code",
   "execution_count": 30,
   "id": "7fb4409c",
   "metadata": {},
   "outputs": [
    {
     "data": {
      "text/html": [
       "<div>\n",
       "<style scoped>\n",
       "    .dataframe tbody tr th:only-of-type {\n",
       "        vertical-align: middle;\n",
       "    }\n",
       "\n",
       "    .dataframe tbody tr th {\n",
       "        vertical-align: top;\n",
       "    }\n",
       "\n",
       "    .dataframe thead th {\n",
       "        text-align: right;\n",
       "    }\n",
       "</style>\n",
       "<table border=\"1\" class=\"dataframe\">\n",
       "  <thead>\n",
       "    <tr style=\"text-align: right;\">\n",
       "      <th></th>\n",
       "      <th>Id</th>\n",
       "      <th>MSSubClass</th>\n",
       "      <th>MSZoning</th>\n",
       "      <th>LotFrontage</th>\n",
       "      <th>LotArea</th>\n",
       "      <th>Street</th>\n",
       "      <th>Alley</th>\n",
       "      <th>LotShape</th>\n",
       "      <th>LandContour</th>\n",
       "      <th>Utilities</th>\n",
       "      <th>...</th>\n",
       "      <th>Fence</th>\n",
       "      <th>MiscFeature</th>\n",
       "      <th>MiscVal</th>\n",
       "      <th>MoSold</th>\n",
       "      <th>YrSold</th>\n",
       "      <th>SaleType</th>\n",
       "      <th>SaleCondition</th>\n",
       "      <th>SalePrice</th>\n",
       "      <th>Total_SF</th>\n",
       "      <th>Per_SF_Rate</th>\n",
       "    </tr>\n",
       "  </thead>\n",
       "  <tbody>\n",
       "    <tr>\n",
       "      <th>0</th>\n",
       "      <td>1</td>\n",
       "      <td>60</td>\n",
       "      <td>RL</td>\n",
       "      <td>65.0</td>\n",
       "      <td>8450</td>\n",
       "      <td>Pave</td>\n",
       "      <td>NaN</td>\n",
       "      <td>Reg</td>\n",
       "      <td>Lvl</td>\n",
       "      <td>AllPub</td>\n",
       "      <td>...</td>\n",
       "      <td>NaN</td>\n",
       "      <td>NaN</td>\n",
       "      <td>0</td>\n",
       "      <td>2</td>\n",
       "      <td>2008</td>\n",
       "      <td>WD</td>\n",
       "      <td>Normal</td>\n",
       "      <td>208500</td>\n",
       "      <td>4885</td>\n",
       "      <td>43.0</td>\n",
       "    </tr>\n",
       "    <tr>\n",
       "      <th>1</th>\n",
       "      <td>2</td>\n",
       "      <td>20</td>\n",
       "      <td>RL</td>\n",
       "      <td>80.0</td>\n",
       "      <td>9600</td>\n",
       "      <td>Pave</td>\n",
       "      <td>NaN</td>\n",
       "      <td>Reg</td>\n",
       "      <td>Lvl</td>\n",
       "      <td>AllPub</td>\n",
       "      <td>...</td>\n",
       "      <td>NaN</td>\n",
       "      <td>NaN</td>\n",
       "      <td>0</td>\n",
       "      <td>5</td>\n",
       "      <td>2007</td>\n",
       "      <td>WD</td>\n",
       "      <td>Normal</td>\n",
       "      <td>181500</td>\n",
       "      <td>4544</td>\n",
       "      <td>40.0</td>\n",
       "    </tr>\n",
       "  </tbody>\n",
       "</table>\n",
       "<p>2 rows × 83 columns</p>\n",
       "</div>"
      ],
      "text/plain": [
       "   Id  MSSubClass MSZoning  LotFrontage  LotArea Street Alley LotShape  \\\n",
       "0   1          60       RL         65.0     8450   Pave   NaN      Reg   \n",
       "1   2          20       RL         80.0     9600   Pave   NaN      Reg   \n",
       "\n",
       "  LandContour Utilities  ... Fence MiscFeature MiscVal MoSold YrSold SaleType  \\\n",
       "0         Lvl    AllPub  ...   NaN         NaN       0      2   2008       WD   \n",
       "1         Lvl    AllPub  ...   NaN         NaN       0      5   2007       WD   \n",
       "\n",
       "  SaleCondition  SalePrice  Total_SF  Per_SF_Rate  \n",
       "0        Normal     208500      4885         43.0  \n",
       "1        Normal     181500      4544         40.0  \n",
       "\n",
       "[2 rows x 83 columns]"
      ]
     },
     "execution_count": 30,
     "metadata": {},
     "output_type": "execute_result"
    }
   ],
   "source": [
    "train2.head(2)"
   ]
  },
  {
   "cell_type": "code",
   "execution_count": 31,
   "id": "2c9b5e44",
   "metadata": {},
   "outputs": [
    {
     "data": {
      "text/html": [
       "<div>\n",
       "<style scoped>\n",
       "    .dataframe tbody tr th:only-of-type {\n",
       "        vertical-align: middle;\n",
       "    }\n",
       "\n",
       "    .dataframe tbody tr th {\n",
       "        vertical-align: top;\n",
       "    }\n",
       "\n",
       "    .dataframe thead th {\n",
       "        text-align: right;\n",
       "    }\n",
       "</style>\n",
       "<table border=\"1\" class=\"dataframe\">\n",
       "  <thead>\n",
       "    <tr style=\"text-align: right;\">\n",
       "      <th></th>\n",
       "      <th>PoolQC</th>\n",
       "      <th>PoolArea</th>\n",
       "    </tr>\n",
       "  </thead>\n",
       "  <tbody>\n",
       "    <tr>\n",
       "      <th>0</th>\n",
       "      <td>NaN</td>\n",
       "      <td>0</td>\n",
       "    </tr>\n",
       "    <tr>\n",
       "      <th>1</th>\n",
       "      <td>NaN</td>\n",
       "      <td>0</td>\n",
       "    </tr>\n",
       "    <tr>\n",
       "      <th>2</th>\n",
       "      <td>NaN</td>\n",
       "      <td>0</td>\n",
       "    </tr>\n",
       "    <tr>\n",
       "      <th>3</th>\n",
       "      <td>NaN</td>\n",
       "      <td>0</td>\n",
       "    </tr>\n",
       "    <tr>\n",
       "      <th>4</th>\n",
       "      <td>NaN</td>\n",
       "      <td>0</td>\n",
       "    </tr>\n",
       "    <tr>\n",
       "      <th>...</th>\n",
       "      <td>...</td>\n",
       "      <td>...</td>\n",
       "    </tr>\n",
       "    <tr>\n",
       "      <th>1455</th>\n",
       "      <td>NaN</td>\n",
       "      <td>0</td>\n",
       "    </tr>\n",
       "    <tr>\n",
       "      <th>1456</th>\n",
       "      <td>NaN</td>\n",
       "      <td>0</td>\n",
       "    </tr>\n",
       "    <tr>\n",
       "      <th>1457</th>\n",
       "      <td>NaN</td>\n",
       "      <td>0</td>\n",
       "    </tr>\n",
       "    <tr>\n",
       "      <th>1458</th>\n",
       "      <td>NaN</td>\n",
       "      <td>0</td>\n",
       "    </tr>\n",
       "    <tr>\n",
       "      <th>1459</th>\n",
       "      <td>NaN</td>\n",
       "      <td>0</td>\n",
       "    </tr>\n",
       "  </tbody>\n",
       "</table>\n",
       "<p>1460 rows × 2 columns</p>\n",
       "</div>"
      ],
      "text/plain": [
       "     PoolQC  PoolArea\n",
       "0       NaN         0\n",
       "1       NaN         0\n",
       "2       NaN         0\n",
       "3       NaN         0\n",
       "4       NaN         0\n",
       "...     ...       ...\n",
       "1455    NaN         0\n",
       "1456    NaN         0\n",
       "1457    NaN         0\n",
       "1458    NaN         0\n",
       "1459    NaN         0\n",
       "\n",
       "[1460 rows x 2 columns]"
      ]
     },
     "execution_count": 31,
     "metadata": {},
     "output_type": "execute_result"
    }
   ],
   "source": [
    "train.loc[:,('PoolQC','PoolArea')]"
   ]
  },
  {
   "cell_type": "code",
   "execution_count": 32,
   "id": "316044c8",
   "metadata": {},
   "outputs": [
    {
     "data": {
      "text/plain": [
       "PoolQC\n",
       "Ex    2\n",
       "Gd    1\n",
       "Name: PoolQC, dtype: int64"
      ]
     },
     "execution_count": 32,
     "metadata": {},
     "output_type": "execute_result"
    }
   ],
   "source": [
    "test.groupby('PoolQC')['PoolQC'].agg('count')"
   ]
  },
  {
   "cell_type": "code",
   "execution_count": 33,
   "id": "93ee9196",
   "metadata": {},
   "outputs": [
    {
     "data": {
      "text/plain": [
       "PoolArea\n",
       "0      1453\n",
       "144       1\n",
       "228       1\n",
       "368       1\n",
       "444       1\n",
       "561       1\n",
       "800       1\n",
       "Name: PoolArea, dtype: int64"
      ]
     },
     "execution_count": 33,
     "metadata": {},
     "output_type": "execute_result"
    }
   ],
   "source": [
    "test.groupby('PoolArea')['PoolArea'].agg('count')"
   ]
  },
  {
   "cell_type": "code",
   "execution_count": 34,
   "id": "b0017690",
   "metadata": {},
   "outputs": [
    {
     "data": {
      "text/plain": [
       "'Pool QC data points are very low; we also see that these are very low in test data set also. Hence we are dropping PoolQC & PoolArea'"
      ]
     },
     "execution_count": 34,
     "metadata": {},
     "output_type": "execute_result"
    }
   ],
   "source": [
    "\"Pool QC data points are very low; we also see that these are very low in test data set also. Hence we are dropping PoolQC & PoolArea\""
   ]
  },
  {
   "cell_type": "code",
   "execution_count": 35,
   "id": "340ad3ce",
   "metadata": {},
   "outputs": [],
   "source": [
    "train3=train2.drop(['PoolQC','PoolArea'],axis=1)\n",
    "test3=test2.drop(['PoolQC','PoolArea'],axis=1)"
   ]
  },
  {
   "cell_type": "code",
   "execution_count": 36,
   "id": "9c85be94",
   "metadata": {},
   "outputs": [
    {
     "data": {
      "text/plain": [
       "BedroomAbvGr\n",
       "1     48\n",
       "2    349\n",
       "3    797\n",
       "4    207\n",
       "5     17\n",
       "6      7\n",
       "Name: BedroomAbvGr, dtype: int64"
      ]
     },
     "execution_count": 36,
     "metadata": {},
     "output_type": "execute_result"
    }
   ],
   "source": [
    "train3.groupby('BedroomAbvGr')['BedroomAbvGr'].agg('count')"
   ]
  },
  {
   "cell_type": "code",
   "execution_count": 37,
   "id": "e562cae6",
   "metadata": {},
   "outputs": [
    {
     "data": {
      "text/plain": [
       "array([3, 4, 1, 2, 5, 6], dtype=int64)"
      ]
     },
     "execution_count": 37,
     "metadata": {},
     "output_type": "execute_result"
    }
   ],
   "source": [
    "train3.BedroomAbvGr.unique()"
   ]
  },
  {
   "cell_type": "code",
   "execution_count": 38,
   "id": "4bf6743b",
   "metadata": {},
   "outputs": [
    {
     "data": {
      "text/plain": [
       "count      48.000000\n",
       "mean     3936.958333\n",
       "std      1751.935403\n",
       "min       668.000000\n",
       "25%      2652.000000\n",
       "50%      3202.000000\n",
       "75%      5112.750000\n",
       "max      7910.000000\n",
       "Name: Total_SF, dtype: float64"
      ]
     },
     "execution_count": 38,
     "metadata": {},
     "output_type": "execute_result"
    }
   ],
   "source": [
    "train3[train3.BedroomAbvGr==1].Total_SF.describe()"
   ]
  },
  {
   "cell_type": "code",
   "execution_count": 39,
   "id": "a688489b",
   "metadata": {},
   "outputs": [
    {
     "data": {
      "text/plain": [
       "count     349.000000\n",
       "mean     3991.736390\n",
       "std      1243.511997\n",
       "min      1728.000000\n",
       "25%      3046.000000\n",
       "50%      3742.000000\n",
       "75%      4763.000000\n",
       "max      9157.000000\n",
       "Name: Total_SF, dtype: float64"
      ]
     },
     "execution_count": 39,
     "metadata": {},
     "output_type": "execute_result"
    }
   ],
   "source": [
    "train3[train3.BedroomAbvGr==2].Total_SF.describe()\n"
   ]
  },
  {
   "cell_type": "code",
   "execution_count": 40,
   "id": "38582238",
   "metadata": {},
   "outputs": [
    {
     "data": {
      "text/plain": [
       "count      797.000000\n",
       "mean      4708.582183\n",
       "std       1183.275882\n",
       "min       2058.000000\n",
       "25%       3859.000000\n",
       "50%       4525.000000\n",
       "75%       5406.000000\n",
       "max      13988.000000\n",
       "Name: Total_SF, dtype: float64"
      ]
     },
     "execution_count": 40,
     "metadata": {},
     "output_type": "execute_result"
    }
   ],
   "source": [
    "train3[train3.BedroomAbvGr==3].Total_SF.describe()"
   ]
  },
  {
   "cell_type": "code",
   "execution_count": 41,
   "id": "26b25ffe",
   "metadata": {},
   "outputs": [
    {
     "data": {
      "text/plain": [
       "count      207.000000\n",
       "mean      5958.990338\n",
       "std       1624.097246\n",
       "min       2808.000000\n",
       "25%       4912.500000\n",
       "50%       5615.000000\n",
       "75%       6921.000000\n",
       "max      12965.000000\n",
       "Name: Total_SF, dtype: float64"
      ]
     },
     "execution_count": 41,
     "metadata": {},
     "output_type": "execute_result"
    }
   ],
   "source": [
    "train3[train3.BedroomAbvGr==4].Total_SF.describe()"
   ]
  },
  {
   "cell_type": "code",
   "execution_count": 42,
   "id": "d3b483df",
   "metadata": {},
   "outputs": [
    {
     "data": {
      "text/plain": [
       "count      17.000000\n",
       "mean     6340.235294\n",
       "std      1408.221419\n",
       "min      3177.000000\n",
       "25%      5751.000000\n",
       "50%      6085.000000\n",
       "75%      7308.000000\n",
       "max      9078.000000\n",
       "Name: Total_SF, dtype: float64"
      ]
     },
     "execution_count": 42,
     "metadata": {},
     "output_type": "execute_result"
    }
   ],
   "source": [
    "train3[train3.BedroomAbvGr==5].Total_SF.describe()"
   ]
  },
  {
   "cell_type": "code",
   "execution_count": 43,
   "id": "e44ad3f3",
   "metadata": {},
   "outputs": [
    {
     "data": {
      "text/plain": [
       "count       7.000000\n",
       "mean     5654.428571\n",
       "std       935.575021\n",
       "min      4396.000000\n",
       "25%      5281.000000\n",
       "50%      5688.000000\n",
       "75%      5725.500000\n",
       "max      7484.000000\n",
       "Name: Total_SF, dtype: float64"
      ]
     },
     "execution_count": 43,
     "metadata": {},
     "output_type": "execute_result"
    }
   ],
   "source": [
    "train3[train3.BedroomAbvGr==6].Total_SF.describe()"
   ]
  },
  {
   "cell_type": "code",
   "execution_count": 44,
   "id": "fd285396",
   "metadata": {},
   "outputs": [
    {
     "data": {
      "text/plain": [
       "(1425, 81)"
      ]
     },
     "execution_count": 44,
     "metadata": {},
     "output_type": "execute_result"
    }
   ],
   "source": [
    "train3.shape"
   ]
  },
  {
   "cell_type": "code",
   "execution_count": 45,
   "id": "be20db46",
   "metadata": {},
   "outputs": [],
   "source": [
    "def outlier_removal_Neighborhood_SF_Rate(df):\n",
    "    df1=pd.DataFrame()\n",
    "    for key, df2 in df.groupby('Neighborhood'):\n",
    "        mean=np.mean(df2.Per_SF_Rate)\n",
    "        std=np.std(df2.Per_SF_Rate)\n",
    "        df3=df2[(df2.Per_SF_Rate>(mean-2*std)) & (df2.Per_SF_Rate<(mean+2*std))]\n",
    "        df1=pd.concat([df1,df3],ignore_index=True)\n",
    "    return df1"
   ]
  },
  {
   "cell_type": "code",
   "execution_count": 46,
   "id": "e50e0846",
   "metadata": {},
   "outputs": [],
   "source": [
    "train4=outlier_removal_Neighborhood_SF_Rate(train3)"
   ]
  },
  {
   "cell_type": "code",
   "execution_count": 47,
   "id": "395e6357",
   "metadata": {},
   "outputs": [
    {
     "data": {
      "text/plain": [
       "(1352, 81)"
      ]
     },
     "execution_count": 47,
     "metadata": {},
     "output_type": "execute_result"
    }
   ],
   "source": [
    "train4.shape"
   ]
  },
  {
   "cell_type": "code",
   "execution_count": 48,
   "id": "ed25255c",
   "metadata": {},
   "outputs": [],
   "source": [
    "def outlier_removal_Bedroom_Total_SF(df):\n",
    "    df1=pd.DataFrame()\n",
    "    for key, df2 in df.groupby('BedroomAbvGr'):\n",
    "        mean=np.mean(df2.Total_SF)\n",
    "        std=np.std(df2.Total_SF)\n",
    "        df3=df2[(df2.Total_SF>(mean-2*std)) & (df2.Total_SF<(mean+2*std))]\n",
    "        df1=pd.concat([df1,df3],ignore_index=True)\n",
    "    return df1"
   ]
  },
  {
   "cell_type": "code",
   "execution_count": 49,
   "id": "70523d30",
   "metadata": {},
   "outputs": [],
   "source": [
    "train5=outlier_removal_Bedroom_Total_SF(train4)"
   ]
  },
  {
   "cell_type": "code",
   "execution_count": 50,
   "id": "297ea37c",
   "metadata": {},
   "outputs": [
    {
     "data": {
      "text/plain": [
       "(1293, 81)"
      ]
     },
     "execution_count": 50,
     "metadata": {},
     "output_type": "execute_result"
    }
   ],
   "source": [
    "train5.shape"
   ]
  },
  {
   "cell_type": "code",
   "execution_count": 51,
   "id": "f5930b66",
   "metadata": {},
   "outputs": [
    {
     "name": "stdout",
     "output_type": "stream",
     "text": [
      "LotFrontage , 233 , 18 %\n",
      "Alley , 1209 , 94 %\n",
      "MasVnrType , 7 , 1 %\n",
      "MasVnrArea , 7 , 1 %\n",
      "BsmtQual , 28 , 2 %\n",
      "BsmtCond , 28 , 2 %\n",
      "BsmtExposure , 29 , 2 %\n",
      "BsmtFinType1 , 28 , 2 %\n",
      "BsmtFinType2 , 28 , 2 %\n",
      "Electrical , 1 , 0 %\n",
      "FireplaceQu , 629 , 49 %\n",
      "GarageType , 63 , 5 %\n",
      "GarageYrBlt , 63 , 5 %\n",
      "GarageFinish , 63 , 5 %\n",
      "GarageQual , 63 , 5 %\n",
      "GarageCond , 63 , 5 %\n",
      "Fence , 1035 , 80 %\n",
      "MiscFeature , 1247 , 96 %\n"
     ]
    },
    {
     "data": {
      "image/png": "[encoded data removed]",
      "text/plain": [
       "<Figure size 432x288 with 1 Axes>"
      ]
     },
     "metadata": {
      "needs_background": "light"
     },
     "output_type": "display_data"
    }
   ],
   "source": [
    "df=train5.copy()\n",
    "l=df.select_dtypes(include=['object','int64','float64']).columns\n",
    "\n",
    "results=[]\n",
    "\n",
    "for i in l:\n",
    "    sum_na=df[i].isna().sum()\n",
    "    sum_na += np.sum(df[i] == \"nan\")\n",
    "    if sum_na>0:\n",
    "        print(i,',',str(sum_na),',',round((sum_na/len(df))*100),'%')\n",
    "        results.append(i)\n",
    "sns.barplot(y=df[results].isnull().sum().index, x=df[results].isnull().sum().values)\n",
    "plt.show()"
   ]
  },
  {
   "cell_type": "code",
   "execution_count": null,
   "id": "7becd278",
   "metadata": {},
   "outputs": [],
   "source": []
  },
  {
   "cell_type": "code",
   "execution_count": 52,
   "id": "dd1e9735",
   "metadata": {},
   "outputs": [
    {
     "data": {
      "image/png": "[encoded data removed]",
      "text/plain": [
       "<Figure size 500x500 with 1 Axes>"
      ]
     },
     "metadata": {
      "needs_background": "light"
     },
     "output_type": "display_data"
    }
   ],
   "source": [
    "def plot_scatter_chart(df,Neighborhood):\n",
    "    bed2=df[(df.Neighborhood==Neighborhood) & (df.BedroomAbvGr==2)]\n",
    "    bed3=df[(df.Neighborhood==Neighborhood) & (df.BedroomAbvGr==3)]\n",
    "    plt.figure(dpi=100, figsize=(5,5))\n",
    "    plt.scatter(bed2.Total_SF,bed2.SalePrice/1000,color='blue',label='2 Bedroom', s=10)\n",
    "    plt.scatter(bed3.Total_SF,bed3.SalePrice/1000,color='red',label='3 Bedroom', s=10)\n",
    "    plt.xlabel('Total Square Feet Area')\n",
    "    plt.ylabel('SalePrice in kilo USD')\n",
    "    plt.title(Neighborhood)\n",
    "    plt.legend()\n",
    "\n",
    "plot_scatter_chart(train5,'NAmes')"
   ]
  },
  {
   "cell_type": "code",
   "execution_count": 53,
   "id": "9e86afad",
   "metadata": {},
   "outputs": [],
   "source": [
    "def remove_Price_Per_SF_outliers(df):\n",
    "    remove_rows=np.array([])\n",
    "    for locality, location_df in df.groupby('Neighborhood'):\n",
    "        bedroom_stat={}\n",
    "        for bedroom, bedroom_df in df.groupby('BedroomAbvGr'):\n",
    "            bedroom_stat[bedroom]={\n",
    "                'mean': np.mean(bedroom_df.Per_SF_Rate),\n",
    "                'std': np.std(bedroom_df.Per_SF_Rate),\n",
    "                'count': bedroom_df.shape[0]\n",
    "            }\n",
    "        for bedroom, bedroom_df in df.groupby('BedroomAbvGr'):\n",
    "            stat=bedroom_stat.get(bedroom-1)\n",
    "            if stat and stat['count']>5:\n",
    "                remove_rows=np.append(remove_rows, bedroom_df[bedroom_df.Per_SF_Rate<(stat['mean'])].index.values)\n",
    "    return df.drop(remove_rows,axis='index')"
   ]
  },
  {
   "cell_type": "code",
   "execution_count": 54,
   "id": "0e6650de",
   "metadata": {},
   "outputs": [],
   "source": [
    "train6=remove_Price_Per_SF_outliers(train5)"
   ]
  },
  {
   "cell_type": "code",
   "execution_count": 55,
   "id": "0729cd93",
   "metadata": {},
   "outputs": [
    {
     "data": {
      "text/plain": [
       "(607, 81)"
      ]
     },
     "execution_count": 55,
     "metadata": {},
     "output_type": "execute_result"
    }
   ],
   "source": [
    "train6.shape"
   ]
  },
  {
   "cell_type": "code",
   "execution_count": 56,
   "id": "f1862a25",
   "metadata": {},
   "outputs": [
    {
     "data": {
      "image/png": "[encoded data removed]",
      "text/plain": [
       "<Figure size 500x500 with 1 Axes>"
      ]
     },
     "metadata": {
      "needs_background": "light"
     },
     "output_type": "display_data"
    }
   ],
   "source": [
    "plot_scatter_chart(train6,'NAmes')"
   ]
  },
  {
   "cell_type": "code",
   "execution_count": 57,
   "id": "9b2b2395",
   "metadata": {},
   "outputs": [
    {
     "data": {
      "text/plain": [
       "Text(0, 0.5, 'Count')"
      ]
     },
     "execution_count": 57,
     "metadata": {},
     "output_type": "execute_result"
    },
    {
     "data": {
      "image/png": "[encoded data removed]",
      "text/plain": [
       "<Figure size 432x288 with 1 Axes>"
      ]
     },
     "metadata": {
      "needs_background": "light"
     },
     "output_type": "display_data"
    }
   ],
   "source": [
    "plt.hist(train6.Per_SF_Rate,rwidth=0.5)\n",
    "plt.xlabel('Price Per SF')\n",
    "plt.ylabel('Count')"
   ]
  },
  {
   "cell_type": "code",
   "execution_count": 58,
   "id": "b9872c63",
   "metadata": {},
   "outputs": [],
   "source": [
    "train7=train6.drop(['Per_SF_Rate','MiscFeature','Alley','FireplaceQu','Fence','LotFrontage'],axis=1)\n",
    "train7.head(2)\n",
    "test4=test3.drop(['MiscFeature','Alley','FireplaceQu','Fence','LotFrontage'],axis=1)"
   ]
  },
  {
   "cell_type": "code",
   "execution_count": 59,
   "id": "6769dc8f",
   "metadata": {},
   "outputs": [
    {
     "data": {
      "text/plain": [
       "(607, 75)"
      ]
     },
     "execution_count": 59,
     "metadata": {},
     "output_type": "execute_result"
    }
   ],
   "source": [
    "train7.shape"
   ]
  },
  {
   "cell_type": "code",
   "execution_count": 60,
   "id": "4774c638",
   "metadata": {},
   "outputs": [
    {
     "data": {
      "text/plain": [
       "'cv is as mentioned below'"
      ]
     },
     "execution_count": 60,
     "metadata": {},
     "output_type": "execute_result"
    }
   ],
   "source": [
    "#train8=train7.dropna(subset=['GarageType','GarageYrBlt', 'GarageFinish','GarageQual','GarageCond',\n",
    "#                             'MasVnrType','MasVnrArea','BsmtQual','BsmtCond','BsmtExposure',\n",
    "#                             'BsmtFinType1','BsmtFinType2','Electrical'],axis=0)\n",
    "#train8.shape\n",
    "\n",
    "\"We tried by removing the NaNs from rows instaed of dropping these columns, the result from grid search\" \n",
    "\"cv is as mentioned below\"\n",
    "\n"
   ]
  },
  {
   "cell_type": "code",
   "execution_count": 61,
   "id": "9185d07c",
   "metadata": {},
   "outputs": [
    {
     "data": {
      "text/plain": [
       "(1459, 61)"
      ]
     },
     "execution_count": 61,
     "metadata": {},
     "output_type": "execute_result"
    }
   ],
   "source": [
    "\"Insetad of removing the NaNs if we drop the column the result has increased significantly\"\n",
    "\"Hence we follow the same approach in test dataset also\"\n",
    "\n",
    "train8=train7.drop(['GarageType','GarageYrBlt', 'GarageFinish','GarageQual','GarageCond',\n",
    "                             'MasVnrType','MasVnrArea','BsmtQual','BsmtCond','BsmtExposure',\n",
    "                             'BsmtFinType1','BsmtFinType2','Electrical'],axis=1)\n",
    "train8.shape\n",
    "\n",
    "test5=test4.drop(['GarageType','GarageYrBlt', 'GarageFinish','GarageQual','GarageCond',\n",
    "                             'MasVnrType','MasVnrArea','BsmtQual','BsmtCond','BsmtExposure',\n",
    "                             'BsmtFinType1','BsmtFinType2','Electrical'],axis=1)\n",
    "test5.shape"
   ]
  },
  {
   "cell_type": "code",
   "execution_count": 62,
   "id": "ced0c952",
   "metadata": {},
   "outputs": [
    {
     "data": {
      "text/plain": [
       "(607, 62)"
      ]
     },
     "execution_count": 62,
     "metadata": {},
     "output_type": "execute_result"
    }
   ],
   "source": [
    "train8.shape"
   ]
  },
  {
   "cell_type": "code",
   "execution_count": 63,
   "id": "743b8a55",
   "metadata": {},
   "outputs": [
    {
     "data": {
      "text/plain": [
       "(1459, 61)"
      ]
     },
     "execution_count": 63,
     "metadata": {},
     "output_type": "execute_result"
    }
   ],
   "source": [
    "num_cols=test5.select_dtypes(exclude='object')\n",
    "cat_cols=test5.select_dtypes(include='object')\n",
    "\n",
    "num_impute=SimpleImputer(strategy='mean')\n",
    "cat_impute=SimpleImputer(strategy='most_frequent')\n",
    "\n",
    "num_rev=num_impute.fit_transform(num_cols)\n",
    "cat_rev=cat_impute.fit_transform(cat_cols)\n",
    "\n",
    "num_df=pd.DataFrame(num_rev,columns=num_cols.columns)\n",
    "cat_df=pd.DataFrame(cat_rev,columns=cat_cols.columns)\n",
    "\n",
    "test6=pd.concat([num_df,cat_df],axis=1)\n",
    "\n",
    "test6.shape"
   ]
  },
  {
   "cell_type": "code",
   "execution_count": 64,
   "id": "510ca01d",
   "metadata": {},
   "outputs": [
    {
     "data": {
      "text/plain": [
       "(1459, 168)"
      ]
     },
     "execution_count": 64,
     "metadata": {},
     "output_type": "execute_result"
    }
   ],
   "source": [
    "\"Model Preparation\"\n",
    "\n",
    "dummy_train=pd.get_dummies(train8.select_dtypes(include='object'))\n",
    "dummy_train.shape\n",
    "\n",
    "dummy_test=pd.get_dummies(test5.select_dtypes(include='object'))\n",
    "dummy_test.shape\n"
   ]
  },
  {
   "cell_type": "code",
   "execution_count": 65,
   "id": "cee67a20",
   "metadata": {},
   "outputs": [
    {
     "data": {
      "text/plain": [
       "(607, 144)"
      ]
     },
     "execution_count": 65,
     "metadata": {},
     "output_type": "execute_result"
    }
   ],
   "source": [
    "dummy_train.shape"
   ]
  },
  {
   "cell_type": "code",
   "execution_count": 66,
   "id": "6c9f7f7a",
   "metadata": {},
   "outputs": [
    {
     "data": {
      "text/plain": [
       "17"
      ]
     },
     "execution_count": 66,
     "metadata": {},
     "output_type": "execute_result"
    }
   ],
   "source": [
    "categorical_cols=[cols for cols in test5.columns if test5[cols].dtype=='object'  \n",
    "                 and set(test5[cols]).issubset(set(train8[cols]))] \n",
    "len(categorical_cols)"
   ]
  },
  {
   "cell_type": "code",
   "execution_count": 67,
   "id": "8696bb0e",
   "metadata": {},
   "outputs": [],
   "source": [
    "#test6.select_dtypes(include='object')"
   ]
  },
  {
   "cell_type": "code",
   "execution_count": 68,
   "id": "51c806bf",
   "metadata": {},
   "outputs": [
    {
     "data": {
      "text/plain": [
       "'while we can drop exterior 1st & 2nd we cannot drop neighborhood'"
      ]
     },
     "execution_count": 68,
     "metadata": {},
     "output_type": "execute_result"
    }
   ],
   "source": [
    "'Neighborhood','Exterior1st','Exterior2nd'\n",
    "'while we can drop exterior 1st & 2nd we cannot drop neighborhood'"
   ]
  },
  {
   "cell_type": "code",
   "execution_count": 69,
   "id": "9247710e",
   "metadata": {
    "scrolled": true
   },
   "outputs": [
    {
     "name": "stdout",
     "output_type": "stream",
     "text": [
      "**** train: Neighborhood ['Blmngtn', 'BrkSide', 'ClearCr', 'CollgCr', 'Crawfor', 'Edwards', 'Gilbert', 'IDOTRR', 'MeadowV', 'Mitchel', 'NAmes', 'NWAmes', 'NoRidge', 'NridgHt', 'OldTown', 'SWISU', 'Sawyer', 'SawyerW', 'Somerst', 'StoneBr', 'Timber', 'Veenker']\n",
      "#### test: Neighborhood ['Blmngtn', 'Blueste', 'BrDale', 'BrkSide', 'ClearCr', 'CollgCr', 'Crawfor', 'Edwards', 'Gilbert', 'IDOTRR', 'MeadowV', 'Mitchel', 'NAmes', 'NPkVill', 'NWAmes', 'NoRidge', 'NridgHt', 'OldTown', 'SWISU', 'Sawyer', 'SawyerW', 'Somerst', 'StoneBr', 'Timber', 'Veenker']\n",
      "\n",
      "**** train: Condition2 ['Norm']\n",
      "#### test: Condition2 ['Artery', 'Feedr', 'Norm', 'PosA', 'PosN']\n",
      "\n",
      "**** train: RoofStyle ['Flat', 'Gable', 'Gambrel', 'Hip']\n",
      "#### test: RoofStyle ['Flat', 'Gable', 'Gambrel', 'Hip', 'Mansard', 'Shed']\n",
      "\n",
      "**** train: RoofMatl ['CompShg', 'Tar&Grv']\n",
      "#### test: RoofMatl ['CompShg', 'Tar&Grv', 'WdShake', 'WdShngl']\n",
      "\n",
      "**** train: Exterior1st ['AsbShng', 'BrkFace', 'CemntBd', 'HdBoard', 'MetalSd', 'Plywood', 'Stucco', 'VinylSd', 'Wd Sdng', 'WdShing']\n",
      "#### test: Exterior1st ['AsbShng', 'AsphShn', 'BrkComm', 'BrkFace', 'CBlock', 'CemntBd', 'HdBoard', 'MetalSd', 'Plywood', 'Stucco', 'VinylSd', 'Wd Sdng', 'WdShing']\n",
      "\n",
      "**** train: Exterior2nd ['AsbShng', 'BrkFace', 'CmentBd', 'HdBoard', 'ImStucc', 'MetalSd', 'Plywood', 'Stucco', 'VinylSd', 'Wd Sdng', 'Wd Shng']\n",
      "#### test: Exterior2nd ['AsbShng', 'AsphShn', 'Brk Cmn', 'BrkFace', 'CBlock', 'CmentBd', 'HdBoard', 'ImStucc', 'MetalSd', 'Plywood', 'Stone', 'Stucco', 'VinylSd', 'Wd Sdng', 'Wd Shng']\n",
      "\n",
      "**** train: ExterCond ['Ex', 'Fa', 'Gd', 'TA']\n",
      "#### test: ExterCond ['Ex', 'Fa', 'Gd', 'Po', 'TA']\n",
      "\n",
      "**** train: Heating ['GasA', 'GasW', 'Grav']\n",
      "#### test: Heating ['GasA', 'GasW', 'Grav', 'Wall']\n",
      "\n",
      "**** train: HeatingQC ['Ex', 'Fa', 'Gd', 'TA']\n",
      "#### test: HeatingQC ['Ex', 'Fa', 'Gd', 'Po', 'TA']\n",
      "\n",
      "**** train: Functional ['Maj1', 'Min1', 'Min2', 'Typ']\n",
      "#### test: Functional ['Maj1', 'Maj2', 'Min1', 'Min2', 'Mod', 'Sev', 'Typ']\n",
      "\n"
     ]
    }
   ],
   "source": [
    "compare_object_columns(train8,test6)"
   ]
  },
  {
   "cell_type": "code",
   "execution_count": null,
   "id": "172f452b",
   "metadata": {},
   "outputs": [],
   "source": []
  },
  {
   "cell_type": "code",
   "execution_count": 70,
   "id": "82a9ce6e",
   "metadata": {},
   "outputs": [
    {
     "data": {
      "text/plain": [
       "(1459, 229)"
      ]
     },
     "execution_count": 70,
     "metadata": {},
     "output_type": "execute_result"
    }
   ],
   "source": [
    "train9=pd.concat([train8,dummy_train],axis=1)\n",
    "train9.shape\n",
    "\n",
    "test6=pd.concat([test5,dummy_test],axis=1)\n",
    "test6.shape"
   ]
  },
  {
   "cell_type": "code",
   "execution_count": 71,
   "id": "f6aff4da",
   "metadata": {},
   "outputs": [
    {
     "data": {
      "text/plain": [
       "(607, 206)"
      ]
     },
     "execution_count": 71,
     "metadata": {},
     "output_type": "execute_result"
    }
   ],
   "source": [
    "train9.shape"
   ]
  },
  {
   "cell_type": "code",
   "execution_count": 72,
   "id": "7693184f",
   "metadata": {},
   "outputs": [
    {
     "data": {
      "text/plain": [
       "(1459, 202)"
      ]
     },
     "execution_count": 72,
     "metadata": {},
     "output_type": "execute_result"
    }
   ],
   "source": [
    "columns_to_drop_train=train9.select_dtypes(include='object')\n",
    "train10=train9.drop(columns=columns_to_drop_train,axis=1)\n",
    "train10.shape\n",
    "\n",
    "columns_to_drop_test=test6.select_dtypes(include='object')\n",
    "test7=test6.drop(columns=columns_to_drop_test,axis=1)\n",
    "test7.shape"
   ]
  },
  {
   "cell_type": "code",
   "execution_count": 73,
   "id": "68e9a0a8",
   "metadata": {},
   "outputs": [
    {
     "data": {
      "text/html": [
       "<div>\n",
       "<style scoped>\n",
       "    .dataframe tbody tr th:only-of-type {\n",
       "        vertical-align: middle;\n",
       "    }\n",
       "\n",
       "    .dataframe tbody tr th {\n",
       "        vertical-align: top;\n",
       "    }\n",
       "\n",
       "    .dataframe thead th {\n",
       "        text-align: right;\n",
       "    }\n",
       "</style>\n",
       "<table border=\"1\" class=\"dataframe\">\n",
       "  <thead>\n",
       "    <tr style=\"text-align: right;\">\n",
       "      <th></th>\n",
       "      <th>Id</th>\n",
       "      <th>MSSubClass</th>\n",
       "      <th>LotArea</th>\n",
       "      <th>OverallQual</th>\n",
       "      <th>OverallCond</th>\n",
       "      <th>YearBuilt</th>\n",
       "      <th>YearRemodAdd</th>\n",
       "      <th>BsmtFinSF1</th>\n",
       "      <th>BsmtFinSF2</th>\n",
       "      <th>BsmtUnfSF</th>\n",
       "      <th>...</th>\n",
       "      <th>SaleType_ConLw</th>\n",
       "      <th>SaleType_New</th>\n",
       "      <th>SaleType_Oth</th>\n",
       "      <th>SaleType_WD</th>\n",
       "      <th>SaleCondition_Abnorml</th>\n",
       "      <th>SaleCondition_AdjLand</th>\n",
       "      <th>SaleCondition_Alloca</th>\n",
       "      <th>SaleCondition_Family</th>\n",
       "      <th>SaleCondition_Normal</th>\n",
       "      <th>SaleCondition_Partial</th>\n",
       "    </tr>\n",
       "  </thead>\n",
       "  <tbody>\n",
       "    <tr>\n",
       "      <th>0</th>\n",
       "      <td>1461</td>\n",
       "      <td>20</td>\n",
       "      <td>11622</td>\n",
       "      <td>5</td>\n",
       "      <td>6</td>\n",
       "      <td>1961</td>\n",
       "      <td>1961</td>\n",
       "      <td>468</td>\n",
       "      <td>144</td>\n",
       "      <td>270</td>\n",
       "      <td>...</td>\n",
       "      <td>0</td>\n",
       "      <td>0</td>\n",
       "      <td>0</td>\n",
       "      <td>1</td>\n",
       "      <td>0</td>\n",
       "      <td>0</td>\n",
       "      <td>0</td>\n",
       "      <td>0</td>\n",
       "      <td>1</td>\n",
       "      <td>0</td>\n",
       "    </tr>\n",
       "    <tr>\n",
       "      <th>1</th>\n",
       "      <td>1462</td>\n",
       "      <td>20</td>\n",
       "      <td>14267</td>\n",
       "      <td>6</td>\n",
       "      <td>6</td>\n",
       "      <td>1958</td>\n",
       "      <td>1958</td>\n",
       "      <td>923</td>\n",
       "      <td>0</td>\n",
       "      <td>406</td>\n",
       "      <td>...</td>\n",
       "      <td>0</td>\n",
       "      <td>0</td>\n",
       "      <td>0</td>\n",
       "      <td>1</td>\n",
       "      <td>0</td>\n",
       "      <td>0</td>\n",
       "      <td>0</td>\n",
       "      <td>0</td>\n",
       "      <td>1</td>\n",
       "      <td>0</td>\n",
       "    </tr>\n",
       "  </tbody>\n",
       "</table>\n",
       "<p>2 rows × 202 columns</p>\n",
       "</div>"
      ],
      "text/plain": [
       "     Id  MSSubClass  LotArea  OverallQual  OverallCond  YearBuilt  \\\n",
       "0  1461          20    11622            5            6       1961   \n",
       "1  1462          20    14267            6            6       1958   \n",
       "\n",
       "   YearRemodAdd  BsmtFinSF1  BsmtFinSF2  BsmtUnfSF  ...  SaleType_ConLw  \\\n",
       "0          1961         468         144        270  ...               0   \n",
       "1          1958         923           0        406  ...               0   \n",
       "\n",
       "   SaleType_New  SaleType_Oth  SaleType_WD  SaleCondition_Abnorml  \\\n",
       "0             0             0            1                      0   \n",
       "1             0             0            1                      0   \n",
       "\n",
       "   SaleCondition_AdjLand  SaleCondition_Alloca  SaleCondition_Family  \\\n",
       "0                      0                     0                     0   \n",
       "1                      0                     0                     0   \n",
       "\n",
       "   SaleCondition_Normal  SaleCondition_Partial  \n",
       "0                     1                      0  \n",
       "1                     1                      0  \n",
       "\n",
       "[2 rows x 202 columns]"
      ]
     },
     "execution_count": 73,
     "metadata": {},
     "output_type": "execute_result"
    }
   ],
   "source": [
    "test7.head(2)"
   ]
  },
  {
   "cell_type": "code",
   "execution_count": 74,
   "id": "843f8aaa",
   "metadata": {},
   "outputs": [
    {
     "data": {
      "text/plain": [
       "(607, 179)"
      ]
     },
     "execution_count": 74,
     "metadata": {},
     "output_type": "execute_result"
    }
   ],
   "source": [
    "train10.shape"
   ]
  },
  {
   "cell_type": "code",
   "execution_count": null,
   "id": "0b4c8514",
   "metadata": {},
   "outputs": [],
   "source": []
  },
  {
   "cell_type": "code",
   "execution_count": null,
   "id": "77cb02ca",
   "metadata": {},
   "outputs": [],
   "source": []
  },
  {
   "cell_type": "code",
   "execution_count": 75,
   "id": "8df43dc1",
   "metadata": {},
   "outputs": [],
   "source": [
    "X=train10.copy()\n",
    "y=X.pop('SalePrice')"
   ]
  },
  {
   "cell_type": "code",
   "execution_count": 76,
   "id": "40e9a468",
   "metadata": {},
   "outputs": [],
   "source": [
    "train_X, val_X, train_y, val_y = train_test_split(X,y,train_size=0.8,test_size=0.2,random_state=0)"
   ]
  },
  {
   "cell_type": "code",
   "execution_count": 77,
   "id": "e2895e6f",
   "metadata": {},
   "outputs": [
    {
     "data": {
      "text/plain": [
       "0.909620933231518"
      ]
     },
     "execution_count": 77,
     "metadata": {},
     "output_type": "execute_result"
    }
   ],
   "source": [
    "from sklearn.linear_model import LinearRegression\n",
    "lm=LinearRegression()\n",
    "lm.fit(train_X,train_y)\n",
    "lm.score(val_X,val_y)"
   ]
  },
  {
   "cell_type": "code",
   "execution_count": 78,
   "id": "610eded9",
   "metadata": {},
   "outputs": [
    {
     "data": {
      "text/plain": [
       "array([0.90962093, 0.9299633 , 0.88285503, 0.86964535, 0.90227307])"
      ]
     },
     "execution_count": 78,
     "metadata": {},
     "output_type": "execute_result"
    }
   ],
   "source": [
    "from sklearn.model_selection import ShuffleSplit\n",
    "from sklearn.model_selection import cross_val_score\n",
    "\n",
    "cv=ShuffleSplit(n_splits=5,test_size=0.2, random_state=0)\n",
    "\n",
    "cross_val_score(LinearRegression(),X,y,cv=cv)"
   ]
  },
  {
   "cell_type": "code",
   "execution_count": 79,
   "id": "32d34c72",
   "metadata": {},
   "outputs": [
    {
     "name": "stderr",
     "output_type": "stream",
     "text": [
      "C:\\ProgramData\\Anaconda3\\lib\\site-packages\\sklearn\\linear_model\\_coordinate_descent.py:530: ConvergenceWarning: Objective did not converge. You might want to increase the number of iterations. Duality gap: 43762533423.748505, tolerance: 213996313.83480495\n",
      "  model = cd_fast.enet_coordinate_descent(\n",
      "C:\\ProgramData\\Anaconda3\\lib\\site-packages\\sklearn\\linear_model\\_coordinate_descent.py:530: ConvergenceWarning: Objective did not converge. You might want to increase the number of iterations. Duality gap: 45160819738.16799, tolerance: 205647165.35793114\n",
      "  model = cd_fast.enet_coordinate_descent(\n",
      "C:\\ProgramData\\Anaconda3\\lib\\site-packages\\sklearn\\linear_model\\_coordinate_descent.py:530: ConvergenceWarning: Objective did not converge. You might want to increase the number of iterations. Duality gap: 32876898289.73716, tolerance: 199916239.36689982\n",
      "  model = cd_fast.enet_coordinate_descent(\n",
      "C:\\ProgramData\\Anaconda3\\lib\\site-packages\\sklearn\\linear_model\\_coordinate_descent.py:530: ConvergenceWarning: Objective did not converge. You might want to increase the number of iterations. Duality gap: 44931746703.51211, tolerance: 216990449.04011342\n",
      "  model = cd_fast.enet_coordinate_descent(\n",
      "C:\\ProgramData\\Anaconda3\\lib\\site-packages\\sklearn\\linear_model\\_coordinate_descent.py:530: ConvergenceWarning: Objective did not converge. You might want to increase the number of iterations. Duality gap: 44143969708.676285, tolerance: 209582528.31065774\n",
      "  model = cd_fast.enet_coordinate_descent(\n",
      "C:\\ProgramData\\Anaconda3\\lib\\site-packages\\sklearn\\linear_model\\_coordinate_descent.py:530: ConvergenceWarning: Objective did not converge. You might want to increase the number of iterations. Duality gap: 43701891453.4954, tolerance: 213996313.83480495\n",
      "  model = cd_fast.enet_coordinate_descent(\n",
      "C:\\ProgramData\\Anaconda3\\lib\\site-packages\\sklearn\\linear_model\\_coordinate_descent.py:530: ConvergenceWarning: Objective did not converge. You might want to increase the number of iterations. Duality gap: 45057041623.15341, tolerance: 205647165.35793114\n",
      "  model = cd_fast.enet_coordinate_descent(\n",
      "C:\\ProgramData\\Anaconda3\\lib\\site-packages\\sklearn\\linear_model\\_coordinate_descent.py:530: ConvergenceWarning: Objective did not converge. You might want to increase the number of iterations. Duality gap: 32929936308.38939, tolerance: 199916239.36689982\n",
      "  model = cd_fast.enet_coordinate_descent(\n",
      "C:\\ProgramData\\Anaconda3\\lib\\site-packages\\sklearn\\linear_model\\_coordinate_descent.py:530: ConvergenceWarning: Objective did not converge. You might want to increase the number of iterations. Duality gap: 44890752661.97256, tolerance: 216990449.04011342\n",
      "  model = cd_fast.enet_coordinate_descent(\n",
      "C:\\ProgramData\\Anaconda3\\lib\\site-packages\\sklearn\\linear_model\\_coordinate_descent.py:530: ConvergenceWarning: Objective did not converge. You might want to increase the number of iterations. Duality gap: 43950581538.41428, tolerance: 209582528.31065774\n",
      "  model = cd_fast.enet_coordinate_descent(\n",
      "C:\\ProgramData\\Anaconda3\\lib\\site-packages\\sklearn\\linear_model\\_coordinate_descent.py:530: ConvergenceWarning: Objective did not converge. You might want to increase the number of iterations. Duality gap: 44394833981.66228, tolerance: 213996313.83480495\n",
      "  model = cd_fast.enet_coordinate_descent(\n",
      "C:\\ProgramData\\Anaconda3\\lib\\site-packages\\sklearn\\linear_model\\_coordinate_descent.py:530: ConvergenceWarning: Objective did not converge. You might want to increase the number of iterations. Duality gap: 45816648436.75386, tolerance: 205647165.35793114\n",
      "  model = cd_fast.enet_coordinate_descent(\n",
      "C:\\ProgramData\\Anaconda3\\lib\\site-packages\\sklearn\\linear_model\\_coordinate_descent.py:530: ConvergenceWarning: Objective did not converge. You might want to increase the number of iterations. Duality gap: 33524648096.08336, tolerance: 199916239.36689982\n",
      "  model = cd_fast.enet_coordinate_descent(\n",
      "C:\\ProgramData\\Anaconda3\\lib\\site-packages\\sklearn\\linear_model\\_coordinate_descent.py:530: ConvergenceWarning: Objective did not converge. You might want to increase the number of iterations. Duality gap: 45446014164.94354, tolerance: 216990449.04011342\n",
      "  model = cd_fast.enet_coordinate_descent(\n",
      "C:\\ProgramData\\Anaconda3\\lib\\site-packages\\sklearn\\linear_model\\_coordinate_descent.py:530: ConvergenceWarning: Objective did not converge. You might want to increase the number of iterations. Duality gap: 44770096040.765625, tolerance: 209582528.31065774\n",
      "  model = cd_fast.enet_coordinate_descent(\n",
      "C:\\ProgramData\\Anaconda3\\lib\\site-packages\\sklearn\\linear_model\\_coordinate_descent.py:530: ConvergenceWarning: Objective did not converge. You might want to increase the number of iterations. Duality gap: 44177945549.47784, tolerance: 213996313.83480495\n",
      "  model = cd_fast.enet_coordinate_descent(\n",
      "C:\\ProgramData\\Anaconda3\\lib\\site-packages\\sklearn\\linear_model\\_coordinate_descent.py:530: ConvergenceWarning: Objective did not converge. You might want to increase the number of iterations. Duality gap: 45626107335.85319, tolerance: 205647165.35793114\n",
      "  model = cd_fast.enet_coordinate_descent(\n",
      "C:\\ProgramData\\Anaconda3\\lib\\site-packages\\sklearn\\linear_model\\_coordinate_descent.py:530: ConvergenceWarning: Objective did not converge. You might want to increase the number of iterations. Duality gap: 33449005045.074837, tolerance: 199916239.36689982\n",
      "  model = cd_fast.enet_coordinate_descent(\n",
      "C:\\ProgramData\\Anaconda3\\lib\\site-packages\\sklearn\\linear_model\\_coordinate_descent.py:530: ConvergenceWarning: Objective did not converge. You might want to increase the number of iterations. Duality gap: 45433073769.19383, tolerance: 216990449.04011342\n",
      "  model = cd_fast.enet_coordinate_descent(\n",
      "C:\\ProgramData\\Anaconda3\\lib\\site-packages\\sklearn\\linear_model\\_coordinate_descent.py:530: ConvergenceWarning: Objective did not converge. You might want to increase the number of iterations. Duality gap: 44707746524.202286, tolerance: 209582528.31065774\n",
      "  model = cd_fast.enet_coordinate_descent(\n",
      "C:\\ProgramData\\Anaconda3\\lib\\site-packages\\sklearn\\linear_model\\_coordinate_descent.py:530: ConvergenceWarning: Objective did not converge. You might want to increase the number of iterations. Duality gap: 56290635332.35435, tolerance: 263028894.66261292\n",
      "  model = cd_fast.enet_coordinate_descent(\n"
     ]
    },
    {
     "data": {
      "text/html": [
       "<div>\n",
       "<style scoped>\n",
       "    .dataframe tbody tr th:only-of-type {\n",
       "        vertical-align: middle;\n",
       "    }\n",
       "\n",
       "    .dataframe tbody tr th {\n",
       "        vertical-align: top;\n",
       "    }\n",
       "\n",
       "    .dataframe thead th {\n",
       "        text-align: right;\n",
       "    }\n",
       "</style>\n",
       "<table border=\"1\" class=\"dataframe\">\n",
       "  <thead>\n",
       "    <tr style=\"text-align: right;\">\n",
       "      <th></th>\n",
       "      <th>model</th>\n",
       "      <th>best_score</th>\n",
       "      <th>best_params</th>\n",
       "    </tr>\n",
       "  </thead>\n",
       "  <tbody>\n",
       "    <tr>\n",
       "      <th>0</th>\n",
       "      <td>Linear Regression</td>\n",
       "      <td>0.898872</td>\n",
       "      <td>{'normalize': False}</td>\n",
       "    </tr>\n",
       "    <tr>\n",
       "      <th>1</th>\n",
       "      <td>Lasso</td>\n",
       "      <td>0.909673</td>\n",
       "      <td>{'alpha': 2, 'selection': 'cyclic'}</td>\n",
       "    </tr>\n",
       "    <tr>\n",
       "      <th>2</th>\n",
       "      <td>Decision Tree</td>\n",
       "      <td>0.843593</td>\n",
       "      <td>{'criterion': 'friedman_mse', 'splitter': 'best'}</td>\n",
       "    </tr>\n",
       "    <tr>\n",
       "      <th>3</th>\n",
       "      <td>Random Forest</td>\n",
       "      <td>0.908276</td>\n",
       "      <td>{'criterion': 'mse', 'n_estimators': 100}</td>\n",
       "    </tr>\n",
       "    <tr>\n",
       "      <th>4</th>\n",
       "      <td>K Nearest Neighbors</td>\n",
       "      <td>0.779764</td>\n",
       "      <td>{'n_neighbors': 5}</td>\n",
       "    </tr>\n",
       "    <tr>\n",
       "      <th>5</th>\n",
       "      <td>XGBRegressor</td>\n",
       "      <td>0.912777</td>\n",
       "      <td>{'n_estimators': 50}</td>\n",
       "    </tr>\n",
       "  </tbody>\n",
       "</table>\n",
       "</div>"
      ],
      "text/plain": [
       "                 model  best_score  \\\n",
       "0    Linear Regression    0.898872   \n",
       "1                Lasso    0.909673   \n",
       "2        Decision Tree    0.843593   \n",
       "3        Random Forest    0.908276   \n",
       "4  K Nearest Neighbors    0.779764   \n",
       "5         XGBRegressor    0.912777   \n",
       "\n",
       "                                         best_params  \n",
       "0                               {'normalize': False}  \n",
       "1                {'alpha': 2, 'selection': 'cyclic'}  \n",
       "2  {'criterion': 'friedman_mse', 'splitter': 'best'}  \n",
       "3          {'criterion': 'mse', 'n_estimators': 100}  \n",
       "4                                 {'n_neighbors': 5}  \n",
       "5                               {'n_estimators': 50}  "
      ]
     },
     "execution_count": 79,
     "metadata": {},
     "output_type": "execute_result"
    }
   ],
   "source": [
    "from sklearn.model_selection import GridSearchCV\n",
    "\n",
    "from sklearn.linear_model import Lasso\n",
    "from sklearn.tree import DecisionTreeRegressor\n",
    "from sklearn.neighbors import KNeighborsRegressor\n",
    "from sklearn.ensemble import RandomForestRegressor\n",
    "from xgboost import XGBRegressor\n",
    "\n",
    "def find_best_model_Gridsearchcv (X,y):\n",
    "    \n",
    "    algo={\n",
    "        'Linear Regression': {\n",
    "            'model': LinearRegression(),\n",
    "            'params': {\n",
    "                'normalize': [True,False]\n",
    "            }\n",
    "        },\n",
    "        'Lasso': {\n",
    "            'model': Lasso(),\n",
    "            'params': {\n",
    "                'alpha': [1,2],\n",
    "                'selection': ['random','cyclic']\n",
    "            }\n",
    "        },\n",
    "        \n",
    "        'Decision Tree':{\n",
    "            'model': DecisionTreeRegressor(),\n",
    "            'params': {\n",
    "                'criterion': ['mse','friedman_mse'],\n",
    "                'splitter': ['best','random']\n",
    "            }\n",
    "        },\n",
    "       'Random Forest':{\n",
    "            'model': RandomForestRegressor(),\n",
    "            'params': {\n",
    "                'criterion': ['mse'],\n",
    "                'n_estimators': [100]\n",
    "                \n",
    "            }\n",
    "       },\n",
    "        \n",
    "        'K Nearest Neighbors':{\n",
    "            'model': KNeighborsRegressor(),\n",
    "            'params':{\n",
    "                'n_neighbors':[5]\n",
    "            }\n",
    "        },\n",
    "        \n",
    "        'XGBRegressor':{\n",
    "            'model': XGBRegressor(),\n",
    "            'params':{\n",
    "                'n_estimators':[50],\n",
    "                \n",
    "            }\n",
    "        },\n",
    "    }\n",
    "    \n",
    "    scores=[]\n",
    "    cv=ShuffleSplit(n_splits=5,test_size=0.2,random_state=0)\n",
    "    for algo_name, config in algo.items():\n",
    "        gs=GridSearchCV(config['model'],config['params'],cv=cv,return_train_score=False)\n",
    "        gs.fit(X,y)\n",
    "        scores.append({\n",
    "            'model':algo_name,\n",
    "            'best_score': gs.best_score_,\n",
    "            'best_params': gs.best_params_\n",
    "        })\n",
    "    return pd.DataFrame(scores,columns=['model','best_score','best_params'])\n",
    "\n",
    "find_best_model_Gridsearchcv (X,y)"
   ]
  },
  {
   "cell_type": "code",
   "execution_count": 80,
   "id": "7b1d26d9",
   "metadata": {},
   "outputs": [
    {
     "data": {
      "text/plain": [
       "(1459, 202)"
      ]
     },
     "execution_count": 80,
     "metadata": {},
     "output_type": "execute_result"
    }
   ],
   "source": [
    "test7.shape"
   ]
  },
  {
   "cell_type": "code",
   "execution_count": 81,
   "id": "e0471644",
   "metadata": {},
   "outputs": [
    {
     "data": {
      "text/plain": [
       "(607, 179)"
      ]
     },
     "execution_count": 81,
     "metadata": {},
     "output_type": "execute_result"
    }
   ],
   "source": [
    "train10.shape"
   ]
  },
  {
   "cell_type": "code",
   "execution_count": null,
   "id": "6c140646",
   "metadata": {},
   "outputs": [],
   "source": []
  },
  {
   "cell_type": "code",
   "execution_count": 82,
   "id": "547758bd",
   "metadata": {},
   "outputs": [],
   "source": [
    "final_train, final_test = X.align(test7, join='left', axis=1, fill_value=0)  # inner join"
   ]
  },
  {
   "cell_type": "code",
   "execution_count": null,
   "id": "95eef9ce",
   "metadata": {},
   "outputs": [],
   "source": []
  },
  {
   "cell_type": "code",
   "execution_count": null,
   "id": "34c2f8a9",
   "metadata": {},
   "outputs": [],
   "source": []
  },
  {
   "cell_type": "code",
   "execution_count": 83,
   "id": "2eb7c4ef",
   "metadata": {},
   "outputs": [
    {
     "name": "stderr",
     "output_type": "stream",
     "text": [
      "C:\\ProgramData\\Anaconda3\\lib\\site-packages\\sklearn\\linear_model\\_coordinate_descent.py:530: ConvergenceWarning: Objective did not converge. You might want to increase the number of iterations. Duality gap: 43701891453.4954, tolerance: 213996313.83480495\n",
      "  model = cd_fast.enet_coordinate_descent(\n"
     ]
    }
   ],
   "source": [
    "from sklearn.linear_model import Lasso\n",
    "lasso=Lasso()\n",
    "lasso.fit(train_X,train_y)\n",
    "test_pred=lasso.predict(final_test)"
   ]
  },
  {
   "cell_type": "code",
   "execution_count": 84,
   "id": "dc9eb1e3",
   "metadata": {},
   "outputs": [],
   "source": [
    "output = pd.DataFrame({'Id': test7.Id,\n",
    "                       'SalePrice': test_pred})\n",
    "output.to_csv('Ames_Housing_Submissio_Rev-1,Date-01.12.2022.csv', index=False)"
   ]
  },
  {
   "cell_type": "code",
   "execution_count": 85,
   "id": "a8b5483a",
   "metadata": {},
   "outputs": [],
   "source": [
    "from xgboost import XGBRegressor\n",
    "xgb=XGBRegressor()\n",
    "xgb.fit(train_X,train_y)\n",
    "test_pred_xgb=xgb.predict(final_test)"
   ]
  },
  {
   "cell_type": "code",
   "execution_count": 86,
   "id": "8b9d0bf9",
   "metadata": {},
   "outputs": [],
   "source": [
    "output = pd.DataFrame({'Id': test7.Id,\n",
    "                       'SalePrice': test_pred_xgb})\n",
    "output.to_csv('Ames_Housing_Submissio_Rev-2,Date-01.12.2022.csv', index=False)"
   ]
  },
  {
   "cell_type": "code",
   "execution_count": null,
   "id": "338be69a",
   "metadata": {},
   "outputs": [],
   "source": []
  }
 ],
 "metadata": {
  "kernelspec": {
   "display_name": "Python 3",
   "language": "python",
   "name": "python3"
  },
  "language_info": {
   "codemirror_mode": {
    "name": "ipython",
    "version": 3
   },
   "file_extension": ".py",
   "mimetype": "text/x-python",
   "name": "python",
   "nbconvert_exporter": "python",
   "pygments_lexer": "ipython3",
   "version": "3.8.8"
  }
 },
 "nbformat": 4,
 "nbformat_minor": 5
}
