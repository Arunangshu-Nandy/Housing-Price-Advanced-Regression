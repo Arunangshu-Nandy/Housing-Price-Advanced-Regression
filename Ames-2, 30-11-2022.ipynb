{
 "cells": [
  {
   "cell_type": "code",
   "execution_count": 1,
   "id": "68c5c851",
   "metadata": {},
   "outputs": [
    {
     "data": {
      "text/plain": [
       "'C:\\\\Users\\\\424294\\\\OneDrive - Alstom\\\\Desktop\\\\PERSONAL DOCUMENTS\\\\SELF STUDY\\\\DATASCIENCE TRAINING\\\\Kaggle Dataset\\\\Ames Housing Dataset'"
      ]
     },
     "execution_count": 1,
     "metadata": {},
     "output_type": "execute_result"
    }
   ],
   "source": [
    "import os\n",
    "os.getcwd()"
   ]
  },
  {
   "cell_type": "code",
   "execution_count": 2,
   "id": "4db622ce",
   "metadata": {},
   "outputs": [],
   "source": [
    "import pandas as pd\n",
    "import numpy as np\n",
    "import matplotlib.pyplot as plt\n",
    "import seaborn as sns\n",
    "from sklearn.cluster import KMeans\n",
    "from sklearn.compose import ColumnTransformer\n",
    "from sklearn.model_selection import cross_val_score\n",
    "import sklearn.preprocessing as preprocessing\n",
    "import xgboost as xgb\n",
    "from xgboost import XGBRegressor\n",
    "from sklearn.model_selection import train_test_split\n",
    "from sklearn.impute import SimpleImputer\n",
    "from sklearn.ensemble import RandomForestRegressor\n",
    "from sklearn.metrics import mean_absolute_error\n",
    "from sklearn.model_selection import cross_val_score\n",
    "from sklearn.neighbors import KNeighborsRegressor\n",
    "\n",
    "train=pd.read_csv('train.csv')\n",
    "test=pd.read_csv('test.csv')"
   ]
  },
  {
   "cell_type": "code",
   "execution_count": 3,
   "id": "312ae7b2",
   "metadata": {},
   "outputs": [],
   "source": [
    "def compare_categorical_columns(df_train : pd.DataFrame,df_test : pd.DataFrame):\n",
    "    l=df_train.select_dtypes(include='object').columns.tolist()\n",
    "    for i in l:\n",
    "        Train_list=df_train[i].unique().tolist()\n",
    "        Test_list=df_test[i].unique().tolist()\n",
    "        if set(Train_list)!=set(Test_list):\n",
    "            Train_list=[\"nan\" if x is np.nan else x for x in Train_list]\n",
    "            Test_list=[\"nan\" if x is np.nan else x for x in Test_list]\n",
    "            Train_list.sort()\n",
    "            Test_list.sort()\n",
    "            print ('**** train:',i,Train_list,end='\\n')\n",
    "            print ('#### test:',i,Test_list,end='\\n''\\n')"
   ]
  },
  {
   "cell_type": "code",
   "execution_count": 4,
   "id": "469d9646",
   "metadata": {},
   "outputs": [
    {
     "name": "stdout",
     "output_type": "stream",
     "text": [
      "**** train: Utilities ['AllPub', 'NoSeWa']\n",
      "#### test: Utilities ['AllPub']\n",
      "\n",
      "**** train: Condition2 ['Artery', 'Feedr', 'Norm', 'PosA', 'PosN', 'RRAe', 'RRAn', 'RRNn']\n",
      "#### test: Condition2 ['Artery', 'Feedr', 'Norm', 'PosA', 'PosN']\n",
      "\n",
      "**** train: HouseStyle ['1.5Fin', '1.5Unf', '1Story', '2.5Fin', '2.5Unf', '2Story', 'SFoyer', 'SLvl']\n",
      "#### test: HouseStyle ['1.5Fin', '1.5Unf', '1Story', '2.5Unf', '2Story', 'SFoyer', 'SLvl']\n",
      "\n",
      "**** train: RoofMatl ['ClyTile', 'CompShg', 'Membran', 'Metal', 'Roll', 'Tar&Grv', 'WdShake', 'WdShngl']\n",
      "#### test: RoofMatl ['CompShg', 'Tar&Grv', 'WdShake', 'WdShngl']\n",
      "\n",
      "**** train: Exterior1st ['AsbShng', 'AsphShn', 'BrkComm', 'BrkFace', 'CBlock', 'CemntBd', 'HdBoard', 'ImStucc', 'MetalSd', 'Plywood', 'Stone', 'Stucco', 'VinylSd', 'Wd Sdng', 'WdShing']\n",
      "#### test: Exterior1st ['AsbShng', 'AsphShn', 'BrkComm', 'BrkFace', 'CBlock', 'CemntBd', 'HdBoard', 'MetalSd', 'Plywood', 'Stucco', 'VinylSd', 'Wd Sdng', 'WdShing']\n",
      "\n",
      "**** train: Exterior2nd ['AsbShng', 'AsphShn', 'Brk Cmn', 'BrkFace', 'CBlock', 'CmentBd', 'HdBoard', 'ImStucc', 'MetalSd', 'Other', 'Plywood', 'Stone', 'Stucco', 'VinylSd', 'Wd Sdng', 'Wd Shng']\n",
      "#### test: Exterior2nd ['AsbShng', 'AsphShn', 'Brk Cmn', 'BrkFace', 'CBlock', 'CmentBd', 'HdBoard', 'ImStucc', 'MetalSd', 'Plywood', 'Stone', 'Stucco', 'VinylSd', 'Wd Sdng', 'Wd Shng']\n",
      "\n",
      "**** train: Heating ['Floor', 'GasA', 'GasW', 'Grav', 'OthW', 'Wall']\n",
      "#### test: Heating ['GasA', 'GasW', 'Grav', 'Wall']\n",
      "\n",
      "**** train: Electrical ['FuseA', 'FuseF', 'FuseP', 'Mix', 'SBrkr', 'nan']\n",
      "#### test: Electrical ['FuseA', 'FuseF', 'FuseP', 'SBrkr']\n",
      "\n",
      "**** train: GarageQual ['Ex', 'Fa', 'Gd', 'Po', 'TA', 'nan']\n",
      "#### test: GarageQual ['Fa', 'Gd', 'Po', 'TA', 'nan']\n",
      "\n",
      "**** train: PoolQC ['Ex', 'Fa', 'Gd', 'nan']\n",
      "#### test: PoolQC ['Ex', 'Gd', 'nan']\n",
      "\n",
      "**** train: MiscFeature ['Gar2', 'Othr', 'Shed', 'TenC', 'nan']\n",
      "#### test: MiscFeature ['Gar2', 'Othr', 'Shed', 'nan']\n",
      "\n"
     ]
    }
   ],
   "source": [
    "compare_categorical_columns(train,test)"
   ]
  },
  {
   "cell_type": "code",
   "execution_count": 5,
   "id": "72cc02fc",
   "metadata": {},
   "outputs": [],
   "source": [
    "\"Checking the null/NaN values in dataset \"\n",
    "\n",
    "def compare_null_values (df_train:pd.DataFrame,df_test:pd.DataFrame):\n",
    "\n",
    "    l=df_train.select_dtypes(include=['object','int64','float64']).columns\n",
    "\n",
    "    results=[]\n",
    "\n",
    "    for i in l:\n",
    "        sum_na=df_train[i].isna().sum()\n",
    "        sum_na += np.sum(df_train[i] == \"nan\")\n",
    "        if sum_na>0:\n",
    "            print(i,',',str(sum_na),',',round((sum_na/len(df_train))*100),'%')\n",
    "            results.append(i)\n",
    "    sns.barplot(y=df_train[results].isnull().sum().index, x=df_train[results].isnull().sum().values)\n",
    "    plt.show()\n",
    "\n",
    "    print('****')\n",
    "    for i in df_test.select_dtypes(include=['object','int64','float64']).columns:\n",
    "        sum_na=df_test[i].isna().sum()\n",
    "        sum_na +=np.sum(df_test[i]==\"nan\")\n",
    "        if sum_na>0:\n",
    "            print(i,',',str(sum_na),',',round((sum_na/len(df_test))*100),'%')\n",
    "            results.append(i)\n",
    "    sns.barplot(y=df_test[results].isnull().sum().index, x=df_test[results].isnull().sum().values)\n",
    "    plt.show()"
   ]
  },
  {
   "cell_type": "code",
   "execution_count": 6,
   "id": "5870346d",
   "metadata": {
    "scrolled": true
   },
   "outputs": [
    {
     "name": "stdout",
     "output_type": "stream",
     "text": [
      "LotFrontage , 259 , 18 %\n",
      "Alley , 1369 , 94 %\n",
      "MasVnrType , 8 , 1 %\n",
      "MasVnrArea , 8 , 1 %\n",
      "BsmtQual , 37 , 3 %\n",
      "BsmtCond , 37 , 3 %\n",
      "BsmtExposure , 38 , 3 %\n",
      "BsmtFinType1 , 37 , 3 %\n",
      "BsmtFinType2 , 38 , 3 %\n",
      "Electrical , 1 , 0 %\n",
      "FireplaceQu , 690 , 47 %\n",
      "GarageType , 81 , 6 %\n",
      "GarageYrBlt , 81 , 6 %\n",
      "GarageFinish , 81 , 6 %\n",
      "GarageQual , 81 , 6 %\n",
      "GarageCond , 81 , 6 %\n",
      "PoolQC , 1453 , 100 %\n",
      "Fence , 1179 , 81 %\n",
      "MiscFeature , 1406 , 96 %\n"
     ]
    },
    {
     "data": {
      "image/png": "[encoded data removed]",
      "text/plain": [
       "<Figure size 432x288 with 1 Axes>"
      ]
     },
     "metadata": {
      "needs_background": "light"
     },
     "output_type": "display_data"
    },
    {
     "name": "stdout",
     "output_type": "stream",
     "text": [
      "****\n",
      "LotFrontage , 227 , 16 %\n",
      "Alley , 1352 , 93 %\n",
      "MasVnrType , 6 , 0 %\n",
      "MasVnrArea , 6 , 0 %\n",
      "BsmtQual , 44 , 3 %\n",
      "BsmtCond , 45 , 3 %\n",
      "BsmtExposure , 44 , 3 %\n",
      "BsmtFinType1 , 42 , 3 %\n",
      "BsmtFinType2 , 42 , 3 %\n",
      "FireplaceQu , 730 , 50 %\n",
      "GarageType , 76 , 5 %\n",
      "GarageYrBlt , 78 , 5 %\n",
      "GarageFinish , 78 , 5 %\n",
      "GarageQual , 78 , 5 %\n",
      "GarageCond , 78 , 5 %\n",
      "PoolQC , 1456 , 100 %\n",
      "Fence , 1169 , 80 %\n",
      "MiscFeature , 1408 , 97 %\n"
     ]
    },
    {
     "data": {
      "image/png": "[encoded data removed]",
      "text/plain": [
       "<Figure size 432x288 with 1 Axes>"
      ]
     },
     "metadata": {
      "needs_background": "light"
     },
     "output_type": "display_data"
    }
   ],
   "source": [
    "compare_null_values(train,test)"
   ]
  },
  {
   "cell_type": "code",
   "execution_count": 7,
   "id": "a4f37659",
   "metadata": {},
   "outputs": [],
   "source": [
    "train1=train.dropna(subset=['SalePrice'],axis=0)"
   ]
  },
  {
   "cell_type": "code",
   "execution_count": 8,
   "id": "e625f887",
   "metadata": {},
   "outputs": [
    {
     "data": {
      "text/html": [
       "<div>\n",
       "<style scoped>\n",
       "    .dataframe tbody tr th:only-of-type {\n",
       "        vertical-align: middle;\n",
       "    }\n",
       "\n",
       "    .dataframe tbody tr th {\n",
       "        vertical-align: top;\n",
       "    }\n",
       "\n",
       "    .dataframe thead th {\n",
       "        text-align: right;\n",
       "    }\n",
       "</style>\n",
       "<table border=\"1\" class=\"dataframe\">\n",
       "  <thead>\n",
       "    <tr style=\"text-align: right;\">\n",
       "      <th></th>\n",
       "      <th>Total</th>\n",
       "      <th>Percent</th>\n",
       "    </tr>\n",
       "  </thead>\n",
       "  <tbody>\n",
       "    <tr>\n",
       "      <th>PoolQC</th>\n",
       "      <td>1453</td>\n",
       "      <td>0.995205</td>\n",
       "    </tr>\n",
       "    <tr>\n",
       "      <th>MiscFeature</th>\n",
       "      <td>1406</td>\n",
       "      <td>0.963014</td>\n",
       "    </tr>\n",
       "    <tr>\n",
       "      <th>Alley</th>\n",
       "      <td>1369</td>\n",
       "      <td>0.937671</td>\n",
       "    </tr>\n",
       "    <tr>\n",
       "      <th>Fence</th>\n",
       "      <td>1179</td>\n",
       "      <td>0.807534</td>\n",
       "    </tr>\n",
       "    <tr>\n",
       "      <th>FireplaceQu</th>\n",
       "      <td>690</td>\n",
       "      <td>0.472603</td>\n",
       "    </tr>\n",
       "    <tr>\n",
       "      <th>LotFrontage</th>\n",
       "      <td>259</td>\n",
       "      <td>0.177397</td>\n",
       "    </tr>\n",
       "    <tr>\n",
       "      <th>GarageYrBlt</th>\n",
       "      <td>81</td>\n",
       "      <td>0.055479</td>\n",
       "    </tr>\n",
       "    <tr>\n",
       "      <th>GarageCond</th>\n",
       "      <td>81</td>\n",
       "      <td>0.055479</td>\n",
       "    </tr>\n",
       "    <tr>\n",
       "      <th>GarageType</th>\n",
       "      <td>81</td>\n",
       "      <td>0.055479</td>\n",
       "    </tr>\n",
       "    <tr>\n",
       "      <th>GarageFinish</th>\n",
       "      <td>81</td>\n",
       "      <td>0.055479</td>\n",
       "    </tr>\n",
       "    <tr>\n",
       "      <th>GarageQual</th>\n",
       "      <td>81</td>\n",
       "      <td>0.055479</td>\n",
       "    </tr>\n",
       "    <tr>\n",
       "      <th>BsmtFinType2</th>\n",
       "      <td>38</td>\n",
       "      <td>0.026027</td>\n",
       "    </tr>\n",
       "    <tr>\n",
       "      <th>BsmtExposure</th>\n",
       "      <td>38</td>\n",
       "      <td>0.026027</td>\n",
       "    </tr>\n",
       "    <tr>\n",
       "      <th>BsmtQual</th>\n",
       "      <td>37</td>\n",
       "      <td>0.025342</td>\n",
       "    </tr>\n",
       "    <tr>\n",
       "      <th>BsmtCond</th>\n",
       "      <td>37</td>\n",
       "      <td>0.025342</td>\n",
       "    </tr>\n",
       "    <tr>\n",
       "      <th>BsmtFinType1</th>\n",
       "      <td>37</td>\n",
       "      <td>0.025342</td>\n",
       "    </tr>\n",
       "    <tr>\n",
       "      <th>MasVnrArea</th>\n",
       "      <td>8</td>\n",
       "      <td>0.005479</td>\n",
       "    </tr>\n",
       "    <tr>\n",
       "      <th>MasVnrType</th>\n",
       "      <td>8</td>\n",
       "      <td>0.005479</td>\n",
       "    </tr>\n",
       "    <tr>\n",
       "      <th>Electrical</th>\n",
       "      <td>1</td>\n",
       "      <td>0.000685</td>\n",
       "    </tr>\n",
       "    <tr>\n",
       "      <th>Id</th>\n",
       "      <td>0</td>\n",
       "      <td>0.000000</td>\n",
       "    </tr>\n",
       "  </tbody>\n",
       "</table>\n",
       "</div>"
      ],
      "text/plain": [
       "              Total   Percent\n",
       "PoolQC         1453  0.995205\n",
       "MiscFeature    1406  0.963014\n",
       "Alley          1369  0.937671\n",
       "Fence          1179  0.807534\n",
       "FireplaceQu     690  0.472603\n",
       "LotFrontage     259  0.177397\n",
       "GarageYrBlt      81  0.055479\n",
       "GarageCond       81  0.055479\n",
       "GarageType       81  0.055479\n",
       "GarageFinish     81  0.055479\n",
       "GarageQual       81  0.055479\n",
       "BsmtFinType2     38  0.026027\n",
       "BsmtExposure     38  0.026027\n",
       "BsmtQual         37  0.025342\n",
       "BsmtCond         37  0.025342\n",
       "BsmtFinType1     37  0.025342\n",
       "MasVnrArea        8  0.005479\n",
       "MasVnrType        8  0.005479\n",
       "Electrical        1  0.000685\n",
       "Id                0  0.000000"
      ]
     },
     "execution_count": 8,
     "metadata": {},
     "output_type": "execute_result"
    }
   ],
   "source": [
    "train1.dropna(subset=['SalePrice'],axis=0,inplace=True)\n",
    "total = train1.isnull().sum().sort_values(ascending=False)\n",
    "percent = (train1.isnull().sum()/train1.isnull().count()).sort_values(ascending=False)\n",
    "missing_data = pd.concat([total, percent], axis=1, keys=['Total', 'Percent'])\n",
    "missing_data.head(20)"
   ]
  },
  {
   "cell_type": "code",
   "execution_count": 9,
   "id": "d48bf08e",
   "metadata": {},
   "outputs": [],
   "source": [
    "train2 = train1.drop((missing_data[missing_data['Total']>=1]).index,axis=1)"
   ]
  },
  {
   "cell_type": "code",
   "execution_count": 10,
   "id": "8f3b2959",
   "metadata": {},
   "outputs": [
    {
     "data": {
      "text/plain": [
       "0"
      ]
     },
     "execution_count": 10,
     "metadata": {},
     "output_type": "execute_result"
    }
   ],
   "source": [
    "train2.isnull().sum().max()"
   ]
  },
  {
   "cell_type": "code",
   "execution_count": 11,
   "id": "d02f8503",
   "metadata": {},
   "outputs": [],
   "source": [
    "#train2['Total_SF']=train2[['TotalBsmtSF','1stFlrSF', '2ndFlrSF','GarageArea','GrLivArea','WoodDeckSF', 'OpenPorchSF',\n",
    "#       'EnclosedPorch','3SsnPorch', 'ScreenPorch', 'PoolArea']].sum(axis=1)\n",
    "\n",
    "#test['Total_SF']=test[['TotalBsmtSF','1stFlrSF', '2ndFlrSF','GarageArea','GrLivArea','WoodDeckSF', 'OpenPorchSF',\n",
    "#       'EnclosedPorch','3SsnPorch', 'ScreenPorch', 'PoolArea']].sum(axis=1)"
   ]
  },
  {
   "cell_type": "code",
   "execution_count": 12,
   "id": "3194bd89",
   "metadata": {},
   "outputs": [],
   "source": [
    "train3 = pd.get_dummies(train2)"
   ]
  },
  {
   "cell_type": "code",
   "execution_count": 13,
   "id": "717594ac",
   "metadata": {},
   "outputs": [],
   "source": [
    "X=train3.copy()\n",
    "y=X.pop('SalePrice')\n",
    "train_X, val_X, train_y, val_y = train_test_split(X,y,train_size=0.8,test_size=0.2,random_state=0)"
   ]
  },
  {
   "cell_type": "code",
   "execution_count": 14,
   "id": "84bf234f",
   "metadata": {},
   "outputs": [
    {
     "name": "stderr",
     "output_type": "stream",
     "text": [
      "C:\\ProgramData\\Anaconda3\\lib\\site-packages\\sklearn\\linear_model\\_coordinate_descent.py:530: ConvergenceWarning: Objective did not converge. You might want to increase the number of iterations. Duality gap: 251806035714.3285, tolerance: 719132949.923008\n",
      "  model = cd_fast.enet_coordinate_descent(\n",
      "C:\\ProgramData\\Anaconda3\\lib\\site-packages\\sklearn\\linear_model\\_coordinate_descent.py:530: ConvergenceWarning: Objective did not converge. You might want to increase the number of iterations. Duality gap: 280783598482.8325, tolerance: 720864768.5194055\n",
      "  model = cd_fast.enet_coordinate_descent(\n",
      "C:\\ProgramData\\Anaconda3\\lib\\site-packages\\sklearn\\linear_model\\_coordinate_descent.py:530: ConvergenceWarning: Objective did not converge. You might want to increase the number of iterations. Duality gap: 262506341315.3096, tolerance: 693434700.861312\n",
      "  model = cd_fast.enet_coordinate_descent(\n",
      "C:\\ProgramData\\Anaconda3\\lib\\site-packages\\sklearn\\linear_model\\_coordinate_descent.py:530: ConvergenceWarning: Objective did not converge. You might want to increase the number of iterations. Duality gap: 258362038669.87354, tolerance: 722474325.4188993\n",
      "  model = cd_fast.enet_coordinate_descent(\n",
      "C:\\ProgramData\\Anaconda3\\lib\\site-packages\\sklearn\\linear_model\\_coordinate_descent.py:530: ConvergenceWarning: Objective did not converge. You might want to increase the number of iterations. Duality gap: 299584053200.40094, tolerance: 731052078.1724874\n",
      "  model = cd_fast.enet_coordinate_descent(\n",
      "C:\\ProgramData\\Anaconda3\\lib\\site-packages\\sklearn\\linear_model\\_coordinate_descent.py:530: ConvergenceWarning: Objective did not converge. You might want to increase the number of iterations. Duality gap: 222651830039.72308, tolerance: 719132949.923008\n",
      "  model = cd_fast.enet_coordinate_descent(\n",
      "C:\\ProgramData\\Anaconda3\\lib\\site-packages\\sklearn\\linear_model\\_coordinate_descent.py:530: ConvergenceWarning: Objective did not converge. You might want to increase the number of iterations. Duality gap: 260700525791.8405, tolerance: 720864768.5194055\n",
      "  model = cd_fast.enet_coordinate_descent(\n",
      "C:\\ProgramData\\Anaconda3\\lib\\site-packages\\sklearn\\linear_model\\_coordinate_descent.py:530: ConvergenceWarning: Objective did not converge. You might want to increase the number of iterations. Duality gap: 259467565013.07605, tolerance: 693434700.861312\n",
      "  model = cd_fast.enet_coordinate_descent(\n",
      "C:\\ProgramData\\Anaconda3\\lib\\site-packages\\sklearn\\linear_model\\_coordinate_descent.py:530: ConvergenceWarning: Objective did not converge. You might want to increase the number of iterations. Duality gap: 257752124282.17926, tolerance: 722474325.4188993\n",
      "  model = cd_fast.enet_coordinate_descent(\n",
      "C:\\ProgramData\\Anaconda3\\lib\\site-packages\\sklearn\\linear_model\\_coordinate_descent.py:530: ConvergenceWarning: Objective did not converge. You might want to increase the number of iterations. Duality gap: 271523404164.4933, tolerance: 731052078.1724874\n",
      "  model = cd_fast.enet_coordinate_descent(\n",
      "C:\\ProgramData\\Anaconda3\\lib\\site-packages\\sklearn\\linear_model\\_coordinate_descent.py:530: ConvergenceWarning: Objective did not converge. You might want to increase the number of iterations. Duality gap: 254534748219.50287, tolerance: 719132949.923008\n",
      "  model = cd_fast.enet_coordinate_descent(\n",
      "C:\\ProgramData\\Anaconda3\\lib\\site-packages\\sklearn\\linear_model\\_coordinate_descent.py:530: ConvergenceWarning: Objective did not converge. You might want to increase the number of iterations. Duality gap: 282421544349.03906, tolerance: 720864768.5194055\n",
      "  model = cd_fast.enet_coordinate_descent(\n",
      "C:\\ProgramData\\Anaconda3\\lib\\site-packages\\sklearn\\linear_model\\_coordinate_descent.py:530: ConvergenceWarning: Objective did not converge. You might want to increase the number of iterations. Duality gap: 264617760352.04727, tolerance: 693434700.861312\n",
      "  model = cd_fast.enet_coordinate_descent(\n",
      "C:\\ProgramData\\Anaconda3\\lib\\site-packages\\sklearn\\linear_model\\_coordinate_descent.py:530: ConvergenceWarning: Objective did not converge. You might want to increase the number of iterations. Duality gap: 261653586430.89697, tolerance: 722474325.4188993\n",
      "  model = cd_fast.enet_coordinate_descent(\n",
      "C:\\ProgramData\\Anaconda3\\lib\\site-packages\\sklearn\\linear_model\\_coordinate_descent.py:530: ConvergenceWarning: Objective did not converge. You might want to increase the number of iterations. Duality gap: 304361305541.6875, tolerance: 731052078.1724874\n",
      "  model = cd_fast.enet_coordinate_descent(\n",
      "C:\\ProgramData\\Anaconda3\\lib\\site-packages\\sklearn\\linear_model\\_coordinate_descent.py:530: ConvergenceWarning: Objective did not converge. You might want to increase the number of iterations. Duality gap: 18873903825.89154, tolerance: 719132949.923008\n",
      "  model = cd_fast.enet_coordinate_descent(\n",
      "C:\\ProgramData\\Anaconda3\\lib\\site-packages\\sklearn\\linear_model\\_coordinate_descent.py:530: ConvergenceWarning: Objective did not converge. You might want to increase the number of iterations. Duality gap: 147557656888.93903, tolerance: 720864768.5194055\n",
      "  model = cd_fast.enet_coordinate_descent(\n",
      "C:\\ProgramData\\Anaconda3\\lib\\site-packages\\sklearn\\linear_model\\_coordinate_descent.py:530: ConvergenceWarning: Objective did not converge. You might want to increase the number of iterations. Duality gap: 253713825297.76877, tolerance: 693434700.861312\n",
      "  model = cd_fast.enet_coordinate_descent(\n",
      "C:\\ProgramData\\Anaconda3\\lib\\site-packages\\sklearn\\linear_model\\_coordinate_descent.py:530: ConvergenceWarning: Objective did not converge. You might want to increase the number of iterations. Duality gap: 253496090294.9207, tolerance: 722474325.4188993\n",
      "  model = cd_fast.enet_coordinate_descent(\n",
      "C:\\ProgramData\\Anaconda3\\lib\\site-packages\\sklearn\\linear_model\\_coordinate_descent.py:530: ConvergenceWarning: Objective did not converge. You might want to increase the number of iterations. Duality gap: 266517860365.3258, tolerance: 731052078.1724874\n",
      "  model = cd_fast.enet_coordinate_descent(\n",
      "C:\\ProgramData\\Anaconda3\\lib\\site-packages\\sklearn\\linear_model\\_coordinate_descent.py:530: ConvergenceWarning: Objective did not converge. You might want to increase the number of iterations. Duality gap: 369813993725.4794, tolerance: 920791133.4609977\n",
      "  model = cd_fast.enet_coordinate_descent(\n"
     ]
    },
    {
     "data": {
      "text/html": [
       "<div>\n",
       "<style scoped>\n",
       "    .dataframe tbody tr th:only-of-type {\n",
       "        vertical-align: middle;\n",
       "    }\n",
       "\n",
       "    .dataframe tbody tr th {\n",
       "        vertical-align: top;\n",
       "    }\n",
       "\n",
       "    .dataframe thead th {\n",
       "        text-align: right;\n",
       "    }\n",
       "</style>\n",
       "<table border=\"1\" class=\"dataframe\">\n",
       "  <thead>\n",
       "    <tr style=\"text-align: right;\">\n",
       "      <th></th>\n",
       "      <th>model</th>\n",
       "      <th>best_score</th>\n",
       "      <th>best_params</th>\n",
       "    </tr>\n",
       "  </thead>\n",
       "  <tbody>\n",
       "    <tr>\n",
       "      <th>0</th>\n",
       "      <td>Linear Regression</td>\n",
       "      <td>0.681875</td>\n",
       "      <td>{'normalize': False}</td>\n",
       "    </tr>\n",
       "    <tr>\n",
       "      <th>1</th>\n",
       "      <td>Lasso</td>\n",
       "      <td>0.698953</td>\n",
       "      <td>{'alpha': 1, 'selection': 'random'}</td>\n",
       "    </tr>\n",
       "    <tr>\n",
       "      <th>2</th>\n",
       "      <td>Decision Tree</td>\n",
       "      <td>0.761762</td>\n",
       "      <td>{'criterion': 'friedman_mse', 'splitter': 'best'}</td>\n",
       "    </tr>\n",
       "    <tr>\n",
       "      <th>3</th>\n",
       "      <td>Random Forest</td>\n",
       "      <td>0.842630</td>\n",
       "      <td>{'criterion': 'mse', 'n_estimators': 100}</td>\n",
       "    </tr>\n",
       "    <tr>\n",
       "      <th>4</th>\n",
       "      <td>K Nearest Neighbors</td>\n",
       "      <td>0.635982</td>\n",
       "      <td>{'n_neighbors': 5}</td>\n",
       "    </tr>\n",
       "    <tr>\n",
       "      <th>5</th>\n",
       "      <td>XGBRegressor</td>\n",
       "      <td>0.858948</td>\n",
       "      <td>{'n_estimators': 50}</td>\n",
       "    </tr>\n",
       "  </tbody>\n",
       "</table>\n",
       "</div>"
      ],
      "text/plain": [
       "                 model  best_score  \\\n",
       "0    Linear Regression    0.681875   \n",
       "1                Lasso    0.698953   \n",
       "2        Decision Tree    0.761762   \n",
       "3        Random Forest    0.842630   \n",
       "4  K Nearest Neighbors    0.635982   \n",
       "5         XGBRegressor    0.858948   \n",
       "\n",
       "                                         best_params  \n",
       "0                               {'normalize': False}  \n",
       "1                {'alpha': 1, 'selection': 'random'}  \n",
       "2  {'criterion': 'friedman_mse', 'splitter': 'best'}  \n",
       "3          {'criterion': 'mse', 'n_estimators': 100}  \n",
       "4                                 {'n_neighbors': 5}  \n",
       "5                               {'n_estimators': 50}  "
      ]
     },
     "execution_count": 14,
     "metadata": {},
     "output_type": "execute_result"
    }
   ],
   "source": [
    "from sklearn.model_selection import GridSearchCV\n",
    "from sklearn.model_selection import ShuffleSplit\n",
    "from sklearn.linear_model import LinearRegression\n",
    "from sklearn.linear_model import Lasso\n",
    "from sklearn.tree import DecisionTreeRegressor\n",
    "from sklearn.neighbors import KNeighborsRegressor\n",
    "from sklearn.ensemble import RandomForestRegressor\n",
    "from xgboost import XGBRegressor\n",
    "\n",
    "def find_best_model_Gridsearchcv (X,y):\n",
    "    \n",
    "    algo={\n",
    "        'Linear Regression': {\n",
    "            'model': LinearRegression(),\n",
    "            'params': {\n",
    "                'normalize': [True,False]\n",
    "            }\n",
    "        },\n",
    "        'Lasso': {\n",
    "            'model': Lasso(),\n",
    "            'params': {\n",
    "                'alpha': [1,2],\n",
    "                'selection': ['random','cyclic']\n",
    "            }\n",
    "        },\n",
    "        \n",
    "        'Decision Tree':{\n",
    "            'model': DecisionTreeRegressor(),\n",
    "            'params': {\n",
    "                'criterion': ['mse','friedman_mse'],\n",
    "                'splitter': ['best','random']\n",
    "            }\n",
    "        },\n",
    "       'Random Forest':{\n",
    "            'model': RandomForestRegressor(),\n",
    "            'params': {\n",
    "                'criterion': ['mse'],\n",
    "                'n_estimators': [100]\n",
    "                \n",
    "            }\n",
    "       },\n",
    "        \n",
    "        'K Nearest Neighbors':{\n",
    "            'model': KNeighborsRegressor(),\n",
    "            'params':{\n",
    "                'n_neighbors':[5]\n",
    "            }\n",
    "        },\n",
    "        \n",
    "        'XGBRegressor':{\n",
    "            'model': XGBRegressor(),\n",
    "            'params':{\n",
    "                'n_estimators':[50],\n",
    "                \n",
    "            }\n",
    "        },\n",
    "    }\n",
    "    \n",
    "    scores=[]\n",
    "    cv=ShuffleSplit(n_splits=5,test_size=0.2,random_state=0)\n",
    "    for algo_name, config in algo.items():\n",
    "        gs=GridSearchCV(config['model'],config['params'],cv=cv,return_train_score=False)\n",
    "        gs.fit(X,y)\n",
    "        scores.append({\n",
    "            'model':algo_name,\n",
    "            'best_score': gs.best_score_,\n",
    "            'best_params': gs.best_params_\n",
    "        })\n",
    "    return pd.DataFrame(scores,columns=['model','best_score','best_params'])\n",
    "\n",
    "find_best_model_Gridsearchcv (X,y)"
   ]
  },
  {
   "cell_type": "code",
   "execution_count": 23,
   "id": "8e81593e",
   "metadata": {},
   "outputs": [],
   "source": [
    "test1 = test.drop((missing_data[missing_data['Total']>=1]).index,axis=1)\n"
   ]
  },
  {
   "cell_type": "code",
   "execution_count": 31,
   "id": "0ca27dfb",
   "metadata": {},
   "outputs": [
    {
     "data": {
      "text/plain": [
       "(1459, 80)"
      ]
     },
     "execution_count": 31,
     "metadata": {},
     "output_type": "execute_result"
    }
   ],
   "source": [
    "test.shape"
   ]
  },
  {
   "cell_type": "code",
   "execution_count": 24,
   "id": "dff03701",
   "metadata": {},
   "outputs": [
    {
     "data": {
      "text/plain": [
       "(1459, 61)"
      ]
     },
     "execution_count": 24,
     "metadata": {},
     "output_type": "execute_result"
    }
   ],
   "source": [
    "test1.shape"
   ]
  },
  {
   "cell_type": "code",
   "execution_count": 26,
   "id": "7ab50e71",
   "metadata": {},
   "outputs": [
    {
     "data": {
      "text/plain": [
       "(1460, 62)"
      ]
     },
     "execution_count": 26,
     "metadata": {},
     "output_type": "execute_result"
    }
   ],
   "source": [
    "train2.shape"
   ]
  },
  {
   "cell_type": "code",
   "execution_count": 27,
   "id": "8c49e0eb",
   "metadata": {},
   "outputs": [
    {
     "data": {
      "text/plain": [
       "(1460, 217)"
      ]
     },
     "execution_count": 27,
     "metadata": {},
     "output_type": "execute_result"
    }
   ],
   "source": [
    "train3.shape"
   ]
  },
  {
   "cell_type": "code",
   "execution_count": 28,
   "id": "43eb206d",
   "metadata": {},
   "outputs": [],
   "source": [
    "test2=pd.get_dummies(test1)"
   ]
  },
  {
   "cell_type": "code",
   "execution_count": 30,
   "id": "73aa4fe2",
   "metadata": {},
   "outputs": [
    {
     "data": {
      "text/plain": [
       "(1459, 202)"
      ]
     },
     "execution_count": 30,
     "metadata": {},
     "output_type": "execute_result"
    }
   ],
   "source": [
    "test2.shape"
   ]
  },
  {
   "cell_type": "code",
   "execution_count": null,
   "id": "c2bfc3b6",
   "metadata": {},
   "outputs": [],
   "source": []
  },
  {
   "cell_type": "code",
   "execution_count": 35,
   "id": "9f968493",
   "metadata": {},
   "outputs": [],
   "source": [
    "final_train, final_test = X.align(test2, join='left', axis=1, fill_value=0)  # inner join"
   ]
  },
  {
   "cell_type": "code",
   "execution_count": 37,
   "id": "c7a54fe3",
   "metadata": {},
   "outputs": [
    {
     "data": {
      "text/plain": [
       "(1460, 216)"
      ]
     },
     "execution_count": 37,
     "metadata": {},
     "output_type": "execute_result"
    }
   ],
   "source": [
    "final_train.shape"
   ]
  },
  {
   "cell_type": "code",
   "execution_count": 38,
   "id": "d39cdd50",
   "metadata": {},
   "outputs": [
    {
     "data": {
      "text/plain": [
       "(1459, 216)"
      ]
     },
     "execution_count": 38,
     "metadata": {},
     "output_type": "execute_result"
    }
   ],
   "source": [
    "final_test.shape"
   ]
  },
  {
   "cell_type": "code",
   "execution_count": null,
   "id": "563695ee",
   "metadata": {},
   "outputs": [],
   "source": []
  },
  {
   "cell_type": "code",
   "execution_count": 39,
   "id": "7c36b87a",
   "metadata": {},
   "outputs": [],
   "source": [
    "from xgboost import XGBRegressor\n",
    "xgb=XGBRegressor()\n",
    "xgb.fit(train_X,train_y)\n",
    "test_pred=xgb.predict(final_test)"
   ]
  },
  {
   "cell_type": "code",
   "execution_count": 40,
   "id": "20c3a85a",
   "metadata": {},
   "outputs": [],
   "source": [
    "output = pd.DataFrame({'Id': test2.Id,\n",
    "                       'SalePrice': test_pred})\n",
    "output.to_csv('Ames_Housing_Submissio_Rev-0,Date-01.12.2022.csv', index=False)"
   ]
  },
  {
   "cell_type": "code",
   "execution_count": null,
   "id": "c8ea016f",
   "metadata": {},
   "outputs": [],
   "source": []
  }
 ],
 "metadata": {
  "kernelspec": {
   "display_name": "Python 3",
   "language": "python",
   "name": "python3"
  },
  "language_info": {
   "codemirror_mode": {
    "name": "ipython",
    "version": 3
   },
   "file_extension": ".py",
   "mimetype": "text/x-python",
   "name": "python",
   "nbconvert_exporter": "python",
   "pygments_lexer": "ipython3",
   "version": "3.8.8"
  }
 },
 "nbformat": 4,
 "nbformat_minor": 5
}
